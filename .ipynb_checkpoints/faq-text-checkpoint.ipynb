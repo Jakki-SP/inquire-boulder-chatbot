{
 "cells": [
  {
   "cell_type": "code",
   "execution_count": 73,
   "metadata": {
    "scrolled": true
   },
   "outputs": [],
   "source": [
    "import numpy as np\n",
    "import pandas as pd\n",
    "import nltk \n",
    "import matplotlib as plt\n",
    "import seaborn as sns\n",
    "\n",
    "# Uncomment to see full cell text\n",
    "pd.set_option('display.max_colwidth', 0)"
   ]
  },
  {
   "cell_type": "code",
   "execution_count": 3,
   "metadata": {},
   "outputs": [],
   "source": [
    "raw = pd.read_excel(\"inquire-boulder-faq-text/inquire-boulder-active-faqs-2019-01-02.xls.xlsx\")"
   ]
  },
  {
   "cell_type": "code",
   "execution_count": 18,
   "metadata": {},
   "outputs": [],
   "source": [
    "df = raw.set_index(keys=['Department', 'Category', 'Topic']).sort_index().drop(labels=('Active'), axis=1).dropna()"
   ]
  },
  {
   "cell_type": "code",
   "execution_count": 19,
   "metadata": {},
   "outputs": [
    {
     "name": "stdout",
     "output_type": "stream",
     "text": [
      "<class 'pandas.core.frame.DataFrame'>\n",
      "MultiIndex: 250 entries, (City Attorney , Legal, Birth and Death Certificate Request) to (Public Works , Website, Boulder Measures)\n",
      "Data columns (total 2 columns):\n",
      "FAQ        250 non-null object\n",
      "Updated    250 non-null datetime64[ns]\n",
      "dtypes: datetime64[ns](1), object(1)\n",
      "memory usage: 7.5+ KB\n"
     ]
    }
   ],
   "source": [
    "df.info()"
   ]
  },
  {
   "cell_type": "code",
   "execution_count": 43,
   "metadata": {},
   "outputs": [
    {
     "data": {
      "text/html": [
       "<div>\n",
       "<style scoped>\n",
       "    .dataframe tbody tr th:only-of-type {\n",
       "        vertical-align: middle;\n",
       "    }\n",
       "\n",
       "    .dataframe tbody tr th {\n",
       "        vertical-align: top;\n",
       "    }\n",
       "\n",
       "    .dataframe thead th {\n",
       "        text-align: right;\n",
       "    }\n",
       "</style>\n",
       "<table border=\"1\" class=\"dataframe\">\n",
       "  <thead>\n",
       "    <tr style=\"text-align: right;\">\n",
       "      <th></th>\n",
       "      <th></th>\n",
       "      <th></th>\n",
       "      <th>FAQ</th>\n",
       "      <th>Updated</th>\n",
       "    </tr>\n",
       "    <tr>\n",
       "      <th>Department</th>\n",
       "      <th>Category</th>\n",
       "      <th>Topic</th>\n",
       "      <th></th>\n",
       "      <th></th>\n",
       "    </tr>\n",
       "  </thead>\n",
       "  <tbody>\n",
       "    <tr>\n",
       "      <th rowspan=\"9\" valign=\"top\">City Attorney</th>\n",
       "      <th rowspan=\"9\" valign=\"top\">Legal</th>\n",
       "      <th>Birth and Death Certificate Request</th>\n",
       "      <td>Visit the Boulder County website for Birth Cer...</td>\n",
       "      <td>2017-05-17</td>\n",
       "    </tr>\n",
       "    <tr>\n",
       "      <th>Boulder Revised Code</th>\n",
       "      <td>View the online version of the Boulder Revised...</td>\n",
       "      <td>2016-11-22</td>\n",
       "    </tr>\n",
       "    <tr>\n",
       "      <th>Claims</th>\n",
       "      <td>I have been injured, or my property has been d...</td>\n",
       "      <td>2016-02-22</td>\n",
       "    </tr>\n",
       "    <tr>\n",
       "      <th>Contact City Attorney</th>\n",
       "      <td>Who does the City Attorney represent?The City ...</td>\n",
       "      <td>2018-01-08</td>\n",
       "    </tr>\n",
       "    <tr>\n",
       "      <th>Drivers License and License Plates</th>\n",
       "      <td>To register a motor vehicle or obtain a driver...</td>\n",
       "      <td>2013-06-21</td>\n",
       "    </tr>\n",
       "    <tr>\n",
       "      <th>Prosecution</th>\n",
       "      <td>I received a ticket, do I have to appear at co...</td>\n",
       "      <td>2013-07-01</td>\n",
       "    </tr>\n",
       "    <tr>\n",
       "      <th>Records Requests</th>\n",
       "      <td>How can I find out if Boulder has a specific l...</td>\n",
       "      <td>2013-07-17</td>\n",
       "    </tr>\n",
       "    <tr>\n",
       "      <th>Scalping Tickets</th>\n",
       "      <td>Is scalping tickets against the law in Boulder...</td>\n",
       "      <td>2013-06-25</td>\n",
       "    </tr>\n",
       "    <tr>\n",
       "      <th>Skateboarding</th>\n",
       "      <td>Can I ride my skateboard, longboard or rollerb...</td>\n",
       "      <td>2016-11-22</td>\n",
       "    </tr>\n",
       "    <tr>\n",
       "      <th rowspan=\"12\" valign=\"top\">City Manager</th>\n",
       "      <th>City Council</th>\n",
       "      <th>Contact City Council</th>\n",
       "      <td>City Council members appreciate hearing from r...</td>\n",
       "      <td>2016-11-22</td>\n",
       "    </tr>\n",
       "    <tr>\n",
       "      <th rowspan=\"4\" valign=\"top\">Community and Visitor Information</th>\n",
       "      <th>Boulder City Limits</th>\n",
       "      <td>If you have a Boulder address, you may either ...</td>\n",
       "      <td>2016-11-22</td>\n",
       "    </tr>\n",
       "    <tr>\n",
       "      <th>Boulder Convention and Visitors Bureau</th>\n",
       "      <td>Welcome to Boulder, Colorado!It's easy to see ...</td>\n",
       "      <td>2017-05-17</td>\n",
       "    </tr>\n",
       "    <tr>\n",
       "      <th>Events</th>\n",
       "      <td>For information about Boulder City Council act...</td>\n",
       "      <td>2013-09-06</td>\n",
       "    </tr>\n",
       "    <tr>\n",
       "      <th>Visitors</th>\n",
       "      <td>Welcome to Boulder, Colorado! It's easy to see...</td>\n",
       "      <td>2013-09-06</td>\n",
       "    </tr>\n",
       "    <tr>\n",
       "      <th rowspan=\"5\" valign=\"top\">General Information</th>\n",
       "      <th>Contact the City Manager's Office</th>\n",
       "      <td>The mission of the City Manager's Office is to...</td>\n",
       "      <td>2018-09-27</td>\n",
       "    </tr>\n",
       "    <tr>\n",
       "      <th>Holidays</th>\n",
       "      <td>City of Boulder administrative offices are clo...</td>\n",
       "      <td>2018-11-21</td>\n",
       "    </tr>\n",
       "    <tr>\n",
       "      <th>Inside Boulder News</th>\n",
       "      <td>Subscribe to Boulder Channel 8's Inside Boulde...</td>\n",
       "      <td>2013-09-06</td>\n",
       "    </tr>\n",
       "    <tr>\n",
       "      <th>News</th>\n",
       "      <td>To sign up for City of Boulder press releases ...</td>\n",
       "      <td>2013-09-06</td>\n",
       "    </tr>\n",
       "    <tr>\n",
       "      <th>Phone Numbers</th>\n",
       "      <td>Use the Main City Contact Numbers to contact a...</td>\n",
       "      <td>2013-09-06</td>\n",
       "    </tr>\n",
       "    <tr>\n",
       "      <th rowspan=\"2\" valign=\"top\">Licensing, Permits and Fees/Taxes</th>\n",
       "      <th>Block Party</th>\n",
       "      <td>If you are wanting to host a block party, plea...</td>\n",
       "      <td>2016-03-28</td>\n",
       "    </tr>\n",
       "    <tr>\n",
       "      <th>Special Event Liquor Permits</th>\n",
       "      <td>You must obtain a regulatory permit to sell or...</td>\n",
       "      <td>2013-09-06</td>\n",
       "    </tr>\n",
       "    <tr>\n",
       "      <th rowspan=\"5\" valign=\"top\">Communication</th>\n",
       "      <th>Building Permits and Inspections, Planning and Zoning</th>\n",
       "      <th>Boulder Planning</th>\n",
       "      <td>The City of Boulder government posts regular u...</td>\n",
       "      <td>2018-03-02</td>\n",
       "    </tr>\n",
       "    <tr>\n",
       "      <th>General Information</th>\n",
       "      <th>Contact Channel 8</th>\n",
       "      <td>Contact Channel 8 to suggest and/or comment on...</td>\n",
       "      <td>2017-02-21</td>\n",
       "    </tr>\n",
       "    <tr>\n",
       "      <th>Help - Cannot Find My Topic</th>\n",
       "      <th>Other - Miscellaneous</th>\n",
       "      <td>If you cannot find the topic that pertains to ...</td>\n",
       "      <td>2016-05-12</td>\n",
       "    </tr>\n",
       "    <tr>\n",
       "      <th>Parking Services</th>\n",
       "      <th>Civic Area Parking Plan</th>\n",
       "      <td>Submit your questions about the new Civic Area...</td>\n",
       "      <td>2017-10-02</td>\n",
       "    </tr>\n",
       "    <tr>\n",
       "      <th>Transportation</th>\n",
       "      <th>Speeding on Residential Streets</th>\n",
       "      <td>Please note: Requests through Inquire Boulder ...</td>\n",
       "      <td>2017-11-20</td>\n",
       "    </tr>\n",
       "    <tr>\n",
       "      <th rowspan=\"4\" valign=\"top\">Community Vitality</th>\n",
       "      <th>Business Services</th>\n",
       "      <th>Business Services</th>\n",
       "      <td>I want to start a business in Boulder. How do ...</td>\n",
       "      <td>2016-12-15</td>\n",
       "    </tr>\n",
       "    <tr>\n",
       "      <th rowspan=\"2\" valign=\"top\">Community and Visitor Information</th>\n",
       "      <th>Downtown Boulder - Pearl Street Mall</th>\n",
       "      <td>With outstanding shopping, lodging, restaurant...</td>\n",
       "      <td>2018-10-08</td>\n",
       "    </tr>\n",
       "    <tr>\n",
       "      <th>Twenty Ninth Street</th>\n",
       "      <td>With a prominent location, the Twenty Ninth St...</td>\n",
       "      <td>2013-06-15</td>\n",
       "    </tr>\n",
       "    <tr>\n",
       "      <th>General Information</th>\n",
       "      <th>Contact The Department of Community Vitality</th>\n",
       "      <td>The Department of Community Vitality provides ...</td>\n",
       "      <td>2018-09-26</td>\n",
       "    </tr>\n",
       "    <tr>\n",
       "      <th>...</th>\n",
       "      <th>...</th>\n",
       "      <th>...</th>\n",
       "      <td>...</td>\n",
       "      <td>...</td>\n",
       "    </tr>\n",
       "    <tr>\n",
       "      <th rowspan=\"30\" valign=\"top\">Public Works</th>\n",
       "      <th rowspan=\"8\" valign=\"top\">Transportation</th>\n",
       "      <th>Street Maintenance</th>\n",
       "      <td>To report a street maintenance related problem...</td>\n",
       "      <td>2018-02-26</td>\n",
       "    </tr>\n",
       "    <tr>\n",
       "      <th>Street Sweeping</th>\n",
       "      <td>The City of Boulder routinely performs street ...</td>\n",
       "      <td>2018-09-17</td>\n",
       "    </tr>\n",
       "    <tr>\n",
       "      <th>Traffic Signals</th>\n",
       "      <td>Boulder has a modern traffic system that is de...</td>\n",
       "      <td>2018-10-03</td>\n",
       "    </tr>\n",
       "    <tr>\n",
       "      <th>Traffic Signs and Markings</th>\n",
       "      <td>New street signs and lane markings are install...</td>\n",
       "      <td>2017-10-06</td>\n",
       "    </tr>\n",
       "    <tr>\n",
       "      <th>Train Noise and Quiet Zones</th>\n",
       "      <td>For the Latest Information: You can find the l...</td>\n",
       "      <td>2018-07-23</td>\n",
       "    </tr>\n",
       "    <tr>\n",
       "      <th>Transit (Bus Service)</th>\n",
       "      <td>RTDThe Regional Transportation District (RTD) ...</td>\n",
       "      <td>2018-11-21</td>\n",
       "    </tr>\n",
       "    <tr>\n",
       "      <th>Transportation Flood Recovery</th>\n",
       "      <td>The City of Boulder continues to respond to an...</td>\n",
       "      <td>2016-11-22</td>\n",
       "    </tr>\n",
       "    <tr>\n",
       "      <th>Transportation Projects</th>\n",
       "      <td>The following transportation projects are, or ...</td>\n",
       "      <td>2018-08-27</td>\n",
       "    </tr>\n",
       "    <tr>\n",
       "      <th>Trees and Landscaping</th>\n",
       "      <th>Sight Obstructions</th>\n",
       "      <td>Property owners are responsible for removing, ...</td>\n",
       "      <td>2017-08-14</td>\n",
       "    </tr>\n",
       "    <tr>\n",
       "      <th rowspan=\"20\" valign=\"top\">Water and Sewer</th>\n",
       "      <th>Backflow Prevention - Drinking Water</th>\n",
       "      <td>Backflow is the undesired, reversed flow of wa...</td>\n",
       "      <td>2017-12-26</td>\n",
       "    </tr>\n",
       "    <tr>\n",
       "      <th>Bulk Water Sales</th>\n",
       "      <td>The City of Boulder sells potable water in bul...</td>\n",
       "      <td>2013-07-18</td>\n",
       "    </tr>\n",
       "    <tr>\n",
       "      <th>Construction Meters/Hydrant Meters</th>\n",
       "      <td>The city has temporary water meters available ...</td>\n",
       "      <td>2017-12-26</td>\n",
       "    </tr>\n",
       "    <tr>\n",
       "      <th>Drinking Water Quality</th>\n",
       "      <td>Amendments to the Safe Drinking Water Act, sig...</td>\n",
       "      <td>2017-07-17</td>\n",
       "    </tr>\n",
       "    <tr>\n",
       "      <th>Fluoride</th>\n",
       "      <td>Fluoride is a mineral that is naturally found ...</td>\n",
       "      <td>2018-08-24</td>\n",
       "    </tr>\n",
       "    <tr>\n",
       "      <th>Fourmile Canyon Creek Greenways Improvements Project</th>\n",
       "      <td>The city is planning improvements along Fourmi...</td>\n",
       "      <td>2018-08-21</td>\n",
       "    </tr>\n",
       "    <tr>\n",
       "      <th>Frozen Water Pipes</th>\n",
       "      <td>How can I prevent and thaw frozen water pipes?...</td>\n",
       "      <td>2018-05-02</td>\n",
       "    </tr>\n",
       "    <tr>\n",
       "      <th>Locate an Underground Utility</th>\n",
       "      <td>Call 811 prior to digging.Property owners are ...</td>\n",
       "      <td>2013-06-20</td>\n",
       "    </tr>\n",
       "    <tr>\n",
       "      <th>No Water/Service Disruptions</th>\n",
       "      <td>From time-to-time there are planned and unplan...</td>\n",
       "      <td>2018-01-18</td>\n",
       "    </tr>\n",
       "    <tr>\n",
       "      <th>Pay Your Utility Bill and MyBUB (MyBoulderUtilityBill Website)</th>\n",
       "      <td>Pay Your Boulder Utility Bill Online MyBUB is ...</td>\n",
       "      <td>2013-08-26</td>\n",
       "    </tr>\n",
       "    <tr>\n",
       "      <th>Report Substance Spills</th>\n",
       "      <td>Whether you see a spill in progress or need to...</td>\n",
       "      <td>2013-06-19</td>\n",
       "    </tr>\n",
       "    <tr>\n",
       "      <th>Sanitary Sewer Maintenance</th>\n",
       "      <td>The City of Boulder owns and maintains about 3...</td>\n",
       "      <td>2018-05-16</td>\n",
       "    </tr>\n",
       "    <tr>\n",
       "      <th>Sewer Backup Prevention</th>\n",
       "      <td>Boulder's sanitary sewer system consists of un...</td>\n",
       "      <td>2014-06-27</td>\n",
       "    </tr>\n",
       "    <tr>\n",
       "      <th>Sewer Odor Problem</th>\n",
       "      <td>If you experience sewer odor problems inside y...</td>\n",
       "      <td>2017-07-17</td>\n",
       "    </tr>\n",
       "    <tr>\n",
       "      <th>Storm Drain Problems</th>\n",
       "      <td>The City of Boulder Utilities Maintenance Depa...</td>\n",
       "      <td>2018-05-02</td>\n",
       "    </tr>\n",
       "    <tr>\n",
       "      <th>Water Being Pumped or Diverted Off Private Property to Elsewhere</th>\n",
       "      <td>Water Being Pumped or Diverted from One Privat...</td>\n",
       "      <td>2016-06-22</td>\n",
       "    </tr>\n",
       "    <tr>\n",
       "      <th>Water Seepage</th>\n",
       "      <td>Water Seeping into BasementsThe level of groun...</td>\n",
       "      <td>2018-01-22</td>\n",
       "    </tr>\n",
       "    <tr>\n",
       "      <th>Water System Maintenance</th>\n",
       "      <td>The city maintains more than 450 miles of wate...</td>\n",
       "      <td>2018-05-24</td>\n",
       "    </tr>\n",
       "    <tr>\n",
       "      <th>Water Utility Billing</th>\n",
       "      <td>Water Utility BillingCharges for water, wastew...</td>\n",
       "      <td>2017-08-14</td>\n",
       "    </tr>\n",
       "    <tr>\n",
       "      <th>Water, Wastewater, Stormwater/Drainageway Flood Recovery</th>\n",
       "      <td>The City of Boulder continues to respond to an...</td>\n",
       "      <td>2014-04-06</td>\n",
       "    </tr>\n",
       "    <tr>\n",
       "      <th>Website</th>\n",
       "      <th>Boulder Measures</th>\n",
       "      <td>Boulder Measures - Phase One Boulder Measures ...</td>\n",
       "      <td>2018-05-31</td>\n",
       "    </tr>\n",
       "  </tbody>\n",
       "</table>\n",
       "<p>250 rows × 2 columns</p>\n",
       "</div>"
      ],
      "text/plain": [
       "                                                                                                                                                                         FAQ  \\\n",
       "Department          Category                                           Topic                                                                                                   \n",
       "City Attorney       Legal                                              Birth and Death Certificate Request                 Visit the Boulder County website for Birth Cer...   \n",
       "                                                                       Boulder Revised Code                                View the online version of the Boulder Revised...   \n",
       "                                                                       Claims                                              I have been injured, or my property has been d...   \n",
       "                                                                       Contact City Attorney                               Who does the City Attorney represent?The City ...   \n",
       "                                                                       Drivers License and License Plates                  To register a motor vehicle or obtain a driver...   \n",
       "                                                                       Prosecution                                         I received a ticket, do I have to appear at co...   \n",
       "                                                                       Records Requests                                    How can I find out if Boulder has a specific l...   \n",
       "                                                                       Scalping Tickets                                    Is scalping tickets against the law in Boulder...   \n",
       "                                                                       Skateboarding                                       Can I ride my skateboard, longboard or rollerb...   \n",
       "City Manager        City Council                                       Contact City Council                                City Council members appreciate hearing from r...   \n",
       "                    Community and Visitor Information                  Boulder City Limits                                 If you have a Boulder address, you may either ...   \n",
       "                                                                       Boulder Convention and Visitors Bureau              Welcome to Boulder, Colorado!It's easy to see ...   \n",
       "                                                                       Events                                              For information about Boulder City Council act...   \n",
       "                                                                       Visitors                                            Welcome to Boulder, Colorado! It's easy to see...   \n",
       "                    General Information                                Contact the City Manager's Office                   The mission of the City Manager's Office is to...   \n",
       "                                                                       Holidays                                            City of Boulder administrative offices are clo...   \n",
       "                                                                       Inside Boulder News                                 Subscribe to Boulder Channel 8's Inside Boulde...   \n",
       "                                                                       News                                                To sign up for City of Boulder press releases ...   \n",
       "                                                                       Phone Numbers                                       Use the Main City Contact Numbers to contact a...   \n",
       "                    Licensing, Permits and Fees/Taxes                  Block Party                                         If you are wanting to host a block party, plea...   \n",
       "                                                                       Special Event Liquor Permits                        You must obtain a regulatory permit to sell or...   \n",
       "Communication       Building Permits and Inspections, Planning and ... Boulder Planning                                    The City of Boulder government posts regular u...   \n",
       "                    General Information                                Contact Channel 8                                   Contact Channel 8 to suggest and/or comment on...   \n",
       "                    Help - Cannot Find My Topic                        Other - Miscellaneous                               If you cannot find the topic that pertains to ...   \n",
       "                    Parking Services                                   Civic Area Parking Plan                             Submit your questions about the new Civic Area...   \n",
       "                    Transportation                                     Speeding on Residential Streets                     Please note: Requests through Inquire Boulder ...   \n",
       "Community Vitality  Business Services                                  Business Services                                   I want to start a business in Boulder. How do ...   \n",
       "                    Community and Visitor Information                  Downtown Boulder - Pearl Street Mall                With outstanding shopping, lodging, restaurant...   \n",
       "                                                                       Twenty Ninth Street                                 With a prominent location, the Twenty Ninth St...   \n",
       "                    General Information                                Contact The Department of Community Vitality        The Department of Community Vitality provides ...   \n",
       "...                                                                                                                                                                      ...   \n",
       "Public Works        Transportation                                     Street Maintenance                                  To report a street maintenance related problem...   \n",
       "                                                                       Street Sweeping                                     The City of Boulder routinely performs street ...   \n",
       "                                                                       Traffic Signals                                     Boulder has a modern traffic system that is de...   \n",
       "                                                                       Traffic Signs and Markings                          New street signs and lane markings are install...   \n",
       "                                                                       Train Noise and Quiet Zones                         For the Latest Information: You can find the l...   \n",
       "                                                                       Transit (Bus Service)                               RTDThe Regional Transportation District (RTD) ...   \n",
       "                                                                       Transportation Flood Recovery                       The City of Boulder continues to respond to an...   \n",
       "                                                                       Transportation Projects                             The following transportation projects are, or ...   \n",
       "                    Trees and Landscaping                              Sight Obstructions                                  Property owners are responsible for removing, ...   \n",
       "                    Water and Sewer                                    Backflow Prevention - Drinking Water                Backflow is the undesired, reversed flow of wa...   \n",
       "                                                                       Bulk Water Sales                                    The City of Boulder sells potable water in bul...   \n",
       "                                                                       Construction Meters/Hydrant Meters                  The city has temporary water meters available ...   \n",
       "                                                                       Drinking Water Quality                              Amendments to the Safe Drinking Water Act, sig...   \n",
       "                                                                       Fluoride                                            Fluoride is a mineral that is naturally found ...   \n",
       "                                                                       Fourmile Canyon Creek Greenways Improvements Pr...  The city is planning improvements along Fourmi...   \n",
       "                                                                       Frozen Water Pipes                                  How can I prevent and thaw frozen water pipes?...   \n",
       "                                                                       Locate an Underground Utility                       Call 811 prior to digging.Property owners are ...   \n",
       "                                                                       No Water/Service Disruptions                        From time-to-time there are planned and unplan...   \n",
       "                                                                       Pay Your Utility Bill and MyBUB (MyBoulderUtili...  Pay Your Boulder Utility Bill Online MyBUB is ...   \n",
       "                                                                       Report Substance Spills                             Whether you see a spill in progress or need to...   \n",
       "                                                                       Sanitary Sewer Maintenance                          The City of Boulder owns and maintains about 3...   \n",
       "                                                                       Sewer Backup Prevention                             Boulder's sanitary sewer system consists of un...   \n",
       "                                                                       Sewer Odor Problem                                  If you experience sewer odor problems inside y...   \n",
       "                                                                       Storm Drain Problems                                The City of Boulder Utilities Maintenance Depa...   \n",
       "                                                                       Water Being Pumped or Diverted Off Private Prop...  Water Being Pumped or Diverted from One Privat...   \n",
       "                                                                       Water Seepage                                       Water Seeping into BasementsThe level of groun...   \n",
       "                                                                       Water System Maintenance                            The city maintains more than 450 miles of wate...   \n",
       "                                                                       Water Utility Billing                               Water Utility BillingCharges for water, wastew...   \n",
       "                                                                       Water, Wastewater, Stormwater/Drainageway Flood...  The City of Boulder continues to respond to an...   \n",
       "                    Website                                            Boulder Measures                                    Boulder Measures - Phase One Boulder Measures ...   \n",
       "\n",
       "                                                                                                                             Updated  \n",
       "Department          Category                                           Topic                                                          \n",
       "City Attorney       Legal                                              Birth and Death Certificate Request                2017-05-17  \n",
       "                                                                       Boulder Revised Code                               2016-11-22  \n",
       "                                                                       Claims                                             2016-02-22  \n",
       "                                                                       Contact City Attorney                              2018-01-08  \n",
       "                                                                       Drivers License and License Plates                 2013-06-21  \n",
       "                                                                       Prosecution                                        2013-07-01  \n",
       "                                                                       Records Requests                                   2013-07-17  \n",
       "                                                                       Scalping Tickets                                   2013-06-25  \n",
       "                                                                       Skateboarding                                      2016-11-22  \n",
       "City Manager        City Council                                       Contact City Council                               2016-11-22  \n",
       "                    Community and Visitor Information                  Boulder City Limits                                2016-11-22  \n",
       "                                                                       Boulder Convention and Visitors Bureau             2017-05-17  \n",
       "                                                                       Events                                             2013-09-06  \n",
       "                                                                       Visitors                                           2013-09-06  \n",
       "                    General Information                                Contact the City Manager's Office                  2018-09-27  \n",
       "                                                                       Holidays                                           2018-11-21  \n",
       "                                                                       Inside Boulder News                                2013-09-06  \n",
       "                                                                       News                                               2013-09-06  \n",
       "                                                                       Phone Numbers                                      2013-09-06  \n",
       "                    Licensing, Permits and Fees/Taxes                  Block Party                                        2016-03-28  \n",
       "                                                                       Special Event Liquor Permits                       2013-09-06  \n",
       "Communication       Building Permits and Inspections, Planning and ... Boulder Planning                                   2018-03-02  \n",
       "                    General Information                                Contact Channel 8                                  2017-02-21  \n",
       "                    Help - Cannot Find My Topic                        Other - Miscellaneous                              2016-05-12  \n",
       "                    Parking Services                                   Civic Area Parking Plan                            2017-10-02  \n",
       "                    Transportation                                     Speeding on Residential Streets                    2017-11-20  \n",
       "Community Vitality  Business Services                                  Business Services                                  2016-12-15  \n",
       "                    Community and Visitor Information                  Downtown Boulder - Pearl Street Mall               2018-10-08  \n",
       "                                                                       Twenty Ninth Street                                2013-06-15  \n",
       "                    General Information                                Contact The Department of Community Vitality       2018-09-26  \n",
       "...                                                                                                                              ...  \n",
       "Public Works        Transportation                                     Street Maintenance                                 2018-02-26  \n",
       "                                                                       Street Sweeping                                    2018-09-17  \n",
       "                                                                       Traffic Signals                                    2018-10-03  \n",
       "                                                                       Traffic Signs and Markings                         2017-10-06  \n",
       "                                                                       Train Noise and Quiet Zones                        2018-07-23  \n",
       "                                                                       Transit (Bus Service)                              2018-11-21  \n",
       "                                                                       Transportation Flood Recovery                      2016-11-22  \n",
       "                                                                       Transportation Projects                            2018-08-27  \n",
       "                    Trees and Landscaping                              Sight Obstructions                                 2017-08-14  \n",
       "                    Water and Sewer                                    Backflow Prevention - Drinking Water               2017-12-26  \n",
       "                                                                       Bulk Water Sales                                   2013-07-18  \n",
       "                                                                       Construction Meters/Hydrant Meters                 2017-12-26  \n",
       "                                                                       Drinking Water Quality                             2017-07-17  \n",
       "                                                                       Fluoride                                           2018-08-24  \n",
       "                                                                       Fourmile Canyon Creek Greenways Improvements Pr... 2018-08-21  \n",
       "                                                                       Frozen Water Pipes                                 2018-05-02  \n",
       "                                                                       Locate an Underground Utility                      2013-06-20  \n",
       "                                                                       No Water/Service Disruptions                       2018-01-18  \n",
       "                                                                       Pay Your Utility Bill and MyBUB (MyBoulderUtili... 2013-08-26  \n",
       "                                                                       Report Substance Spills                            2013-06-19  \n",
       "                                                                       Sanitary Sewer Maintenance                         2018-05-16  \n",
       "                                                                       Sewer Backup Prevention                            2014-06-27  \n",
       "                                                                       Sewer Odor Problem                                 2017-07-17  \n",
       "                                                                       Storm Drain Problems                               2018-05-02  \n",
       "                                                                       Water Being Pumped or Diverted Off Private Prop... 2016-06-22  \n",
       "                                                                       Water Seepage                                      2018-01-22  \n",
       "                                                                       Water System Maintenance                           2018-05-24  \n",
       "                                                                       Water Utility Billing                              2017-08-14  \n",
       "                                                                       Water, Wastewater, Stormwater/Drainageway Flood... 2014-04-06  \n",
       "                    Website                                            Boulder Measures                                   2018-05-31  \n",
       "\n",
       "[250 rows x 2 columns]"
      ]
     },
     "execution_count": 43,
     "metadata": {},
     "output_type": "execute_result"
    }
   ],
   "source": [
    "df"
   ]
  },
  {
   "cell_type": "code",
   "execution_count": 61,
   "metadata": {},
   "outputs": [],
   "source": [
    "faq = pd.DataFrame(df.FAQ.values, columns=['FAQ'])"
   ]
  },
  {
   "cell_type": "code",
   "execution_count": 65,
   "metadata": {},
   "outputs": [],
   "source": [
    "faq['length'] = faq.FAQ.apply(len)"
   ]
  },
  {
   "cell_type": "code",
   "execution_count": 78,
   "metadata": {},
   "outputs": [
    {
     "data": {
      "text/plain": [
       "<matplotlib.axes._subplots.AxesSubplot at 0x1a1a1171d0>"
      ]
     },
     "execution_count": 78,
     "metadata": {},
     "output_type": "execute_result"
    },
    {
     "data": {
      "image/png": "[encoded data removed]",
      "text/plain": [
       "<Figure size 432x288 with 1 Axes>"
      ]
     },
     "metadata": {},
     "output_type": "display_data"
    }
   ],
   "source": [
    "faq.length.plot(kind='hist', bins=50)"
   ]
  },
  {
   "cell_type": "code",
   "execution_count": 75,
   "metadata": {},
   "outputs": [
    {
     "data": {
      "text/html": [
       "<div>\n",
       "<style scoped>\n",
       "    .dataframe tbody tr th:only-of-type {\n",
       "        vertical-align: middle;\n",
       "    }\n",
       "\n",
       "    .dataframe tbody tr th {\n",
       "        vertical-align: top;\n",
       "    }\n",
       "\n",
       "    .dataframe thead th {\n",
       "        text-align: right;\n",
       "    }\n",
       "</style>\n",
       "<table border=\"1\" class=\"dataframe\">\n",
       "  <thead>\n",
       "    <tr style=\"text-align: right;\">\n",
       "      <th></th>\n",
       "      <th>FAQ</th>\n",
       "      <th>length</th>\n",
       "    </tr>\n",
       "  </thead>\n",
       "  <tbody>\n",
       "    <tr>\n",
       "      <th>146</th>\n",
       "      <td>Colorado Parks and Wildlife has provided this list of Frequently Asked Questions in response to questions about mountain lion management in the City of Boulder.  Colorado Parks and Wildlife is responsible for the direct management of all wildlife in the state.   Mountain Lion Frequently Asked Questions   1.  Why are there lions in Boulder? Wildlife requires, and will seek out, adequate habitat in order to survive.  The land surrounding Boulder including Open Space and Mountain Parks, US Forest Service property, Boulder County Open Space properties and the private land in mountain subdivisions all provide excellent habitat for lions.  Habitat can be described as four basic needs: food, shelter, water, and space.  Lions come into and use the City of Boulder from the surrounding areas because within the city limits all four of these needs ca be met.  Food is found in the form of deer, small mammals, livestock, and pets.  Shelter includes not only the heavy vegetation throughout the city in yards and along irrigation ditches, but also human-made shelter such as the spaces underneath decks.  There is an abundance of water, in ponds, ditches, and in backyard water features (fountains and backyard ponds).  Finally, space is available in backyards, parks, and in the ditches and creeks, which serve as ideal movement corridors for lions and other wildlife.  There are lions in Boulder because there is quality habitat in Boulder, and lions do not recognize city limits when seeking a living.   2.  What do lions eat? Lions are opportunistic, predatory carnivores and will prey on a variety of large and small mammals, both wild and domestic.  In Colorado, lions most often prey on deer, but they will also kill and feed on other large mammals such as elk and bighorn sheep.  If left unprotected, domestic livestock such as llamas, ponies, goats, sheep and chickens can become food for lions.  Lions will also feed on a variety of small mammals such as raccoons, foxes, coyotes, squirrels, and domestic pets.  To minimize conflicts between domestic animals and lions, livestock should be kept in secure, fully enclosed structures, especially near dawn, dusk, and throughout the nighttime hours.  When allowed outdoors, pets should be closely supervised or kept in secure enclosures (with a roof) at all times.   3.  What is a cache and what does it look like? A cache is the carcass of something that a lion has killed.  Lions sometimes drag their kill a short distance to a place they feel is protected before they start to feed on it.  When a lion is finished feeding, it will partially cover, or “cache” the kill by scraping the ground substrate (eg. pine needles, twigs, leaves or dirt) over the carcass.  The lion may leave the area until the next feeding, or may guard the cache and stay very close to it.  Depending on the size of the kill, the lion may return periodically for several days to feed on the carcass.  If you see a carcass that looks like it may have been cached, stay away from the carcass and call the Boulder Police non-emergency number at 303-441-3333 (anytime) or Colorado Parks and Wildlife at 303-291-7227 (business hours – 8:00 – 5:00).      4.  Why can’t Colorado Parks and Wildlife (CPW) take all of lions out of town and keep them out? There is no feasible way to keep lions out of the City of Boulder and due to the often unpredictable nature of wildlife, there are not always opportunities to remove each lion from the city before that lion leaves on its own.   When appropriate, CPW officers will attempt to capture lions either by tranquillizing them with a dart gun, by using a baited trap, or using other techniques.  Officers may also attempt to haze lions out of the city using tools such as rubber buckshot.  Hazing, capture and/or relocation may not be appropriate, practical, or successful in every situation.  When a mountain lion is relocated two outcomes are possible: either the relocated lion returns to its former range, or a different lion moves into the vacated territory which may include a portion of the City of Boulder.   Additionally, lions can jump over very high fences and there are no proven techniques to exclude mountain lions from large areas like the City of Boulder.    5.  What does Colorado Parks and Wildlife (CPW) do about lions in town? The CPW follows a statewide directive when responding to mountain lions in the City of Boulder.  Each situation is dynamic and unique as to what actions are appropriate, safe and effective when dealing with a particular lion in a particular location.  In addition, CPW does not have the opportunity to take action on every lion that comes into town as lions often return on their own to the foothills west of the City.  Given the fact that situations involving wildlife are never the same and outcomes are rarely predictable there are no cut and dried answers for dealing with lions in town, but generally speaking the following are true:  if a lion sighting is reported in the City of Boulder an officer will respond and attempt to locate the lion.  This could be a CPW officer, a City of Boulder Open Space and Mountain Parks ranger, an animal control officer, or a police officer. While responding to the initial call and during the follow up CPW officers and City of Boulder officers work together to provide the most timely and appropriate level of response necessary.  Public safety is always the primary consideration in determining the appropriate response on lions in Boulder.     If a lion is located a CPW officer will respond and, depending on each individual situation, may attempt to haze the lion out of town or tranquilize the lion using a tranquilizer dart gun.  If a lion kills a deer or other wildlife in a yard in the city and “caches” it (see Question 3), a wildlife officer, only with permission from the homeowner, may set a trap and attempt to trap and relocate the lion.  CPW will kill lions that are aggressive towards people, or lions that are determined to be dangerous.  Additionally, the CPW makes every reasonable attempt to notify and educate neighbors and neighborhoods about lions in town by posting signs, knocking on doors, and providing information on neighborhood websites.  CPW and the City of Boulder are always working together to develop the most efficient avenues of notification and continue to try to improve communication about lions and lion activity. Boulder residents and visitors should be aware that a lion may be encountered at any time and should always take appropriate precautions to minimize conflicts with lions (See Questions 8 and 9)   6.  Is Colorado Parks and Wildlife (CPW) waiting until someone is injured or killed before doing something about the lions? CPW and City of Boulder officers that work in and around Boulder are committed to doing whatever they can to protect people and pets from mountain lions.   They currently do so not only by educating and informing residents of Boulder but also by hazing, tranquilizing, trapping, and relocating lions when appropriate and feasible, and killing individual lions when necessary (see Question 5).  Unfortunately, CPW cannot exclude lions from the city and cannot completely eliminate all risk to people and pets from mountain lions. Therefore, to minimize the risk of lion conflicts it is essential that residents and visitors to Boulder be vigilant and responsive to lion activity in their community.  CPW continues to encourage the thoughtful discussion between neighbors, CPW, and the City of Boulder on what can be done to discourage the presence of lions in the city and what measures people can take knowing that lions may be present at any time (see Questions 8, 9 and 10).    7.  What are the risks to humans from lions? In Colorado, there have been 2 confirmed deaths and 1 suspected death caused by mountain lions.  All three have occurred since 1990, and all of these incidents occurred in undeveloped areas away from towns.  In Boulder, the natural areas surrounding the city experience high visitation (an estimated 4.7 million visits to city Open Space and Mountain Parks (OSMP) property during a 12-month period in 2004 and 2005[1]) and there has been one reported attack on OSMP property which occurred in 2006.  Four additional people were injured by mountain lions in Boulder County between 1990 and 2000, all of which also occurred outside the Boulder city limits.  Across the wider range of mountain lions in the western United States and Canada, attacks on humans are also very rare.   There has been an average of 0.2 annual human deaths in all of North America from mountain lions between 1900 and 2007[2].  This number is very low compared to annual deaths from black widow spiders (1.4 between 1950-1989), domestic dogs (16 between 1979-1998) and car crashes (45,000 between 1980-2005).   While the risk of a lion attack is very low, there is still a risk associated with living or recreating in lion habitat.  The obvious facts to take into account are that lions are predators, they prey on large mammals, and throughout their range they have on very rare occasions been responsible for some human injuries and deaths.  It is up to individuals to balance these facts and decide it means to them, how they fit into an individual’s daily risk management, and what steps they are willing to take to mitigate those risks (see Questions 8 and 9).    8.  What can I do to keep myself/my kids safe?  Can my kids play outside and walk to school unsupervised? The most important thing you can do to reduce the risk to you and your family is to be aware that mountain lions are, at times, present in the City of Boulder.  The next step is to educate yourself and everyone in your house about mountain lions.  A great place to start is on the CPW website: http://cpw.state.co.us/learn/Pages/LivingwithWildlifeLion1.aspx .    Colorado Parks and Wildlife recommends that children be supervised when outside in lion, bear and coyote habitat.  The risk of injury or death to humans from lions, including children, is very low (see Question 7), however there is a minimal level of risk that cannot be completely eliminated in Boulder.   Some parents feel most comfortable when their children are directly supervised by an adult at all times.  Depending on the child’s age and maturity, others feel comfortable educating their children on what to do if they see a lion and allow their children to walk to school or play outside with a group of friends.  Some parents give their child a whistle or air horn to signal a problem or concern (wildlife or otherwise) if they are playing outside without an adult immediately present.  Teach your children to be aware of wildlife and what to do if they encounter wildlife.  Practicing scenarios ahead of time can better prepare children for an unexpected encounter with various wildlife species, including mountain lions.   Adults may decide to do more or less than what is recommended.  There are many decisions we make every day to minimize a variety of risks to our children, our pets, and ourselves.  In Boulder, there is the extra necessity of considering the risks from wildlife when making those decisions. Each individual, pet owner, and parent must evaluate the risk for themselves and make the decisions they find to be most appropriate.   9.  What can I do to keep my pets safe? There are actions you can take to reduce the risk to your pets from mountain lions.  First, it is important to note that lions routinely kill deer and other large mammals for food (see Question 2) and have killed dogs as large as a Great Pyrenees. Therefore, don’t assume because you have a large dog that it is safe.  Colorado Parks and Wildlife recommends that you always supervise your pets when they are outside.  Most pets are attacked near dusk, during the night, and near dawn (see Question 14).  Therefore, if your dog needs to go outside during these hours put it on a leash and go with it— carry a flash light, talk in a loud voice, and carefully look around your backyard before you go out.  If you must leave your pet unattended outside, build a fully enclosed kennel (including a roof or sturdy fencing on top).  Finally, keep your cat indoors.  Cats face risks not only from mountain lions but also foxes, owls, and coyotes.  Keeping them indoors is the only way to keep house cats safe.   10.  How can I discourage lions coming onto or near my property? If you remove what is considered to be habitat from your property you will reduce the incentive for a lion to come onto your property.  This habitat can be described as four basic needs.   The first is food.  Mule deer make up a large proportion of a lion’s diet.  By planting vegetation that deer do not like to eat or by using landscaping products meant to exclude deer you can remove a primary attractant.  That said, lions will also eat raccoons and small mammals.  By securing your garbage properly and blocking off access to places animals might choose to den, you will also exclude species that make up the rest of a lion’s diet.  Additionally, do not feed wildlife.  Feeding deer and fox not only has the potential to attract mountain lions to your yard but is illegal in the City of Boulder.    Next is water. Water features in a backyard are huge attractants for a variety of wildlife including lions.  If you don’t want lions in your backyard then you should not have water features.    The last two needs for habitat are shelter and space.  To limit these you should eliminate any places in your yard that serve as good hiding places.  Lions are ambush predators and stalk prey from cover. Low lying, large bushes and shrubs, spaces under decks, or any place that wildlife can rest comfortably without being seen should be removed or blocked off.  Installing outside lighting can help you see a lion if it is on your property, and may make it less inviting.   11.  Are there more lions in town now than in the past?  Some long-time residents believe so… Unfortunately, Colorado Parks and Wildlife (CPW) does not have data to definitively answer this question.  Some long-time residents of Boulder have expressed that they had rarely heard of or seen a mountain lion in the city until the recent past.  Others say that they have always known that lions come into the city from time to time.  Because so many factors affect the behavior and movement of wildlife and people’s perception of it, it is very difficult to do any more than speculate as to why reported, perceived, or actual lion activity in Boulder has increased.  Lion sightings and/or pet attacks in the City of Boulder can occur sporadically, or in clusters.   Several months may pass without a single report of a lion in the City, or several reports may be received in a single week.   The clusters of activity may be caused by one lion, or by different lions.     12. Will I encounter lions east of Broadway? Lions occasionally travel east of Broadway, though sightings on the west side of Boulder near the foothills are much more common.  In recent years lions have been confirmed in areas such as Gunbarrel, Lafayette, Longmont, Firestone, Aurora, eastern Colorado and some Midwestern states.  Anyone residing in or visiting the City of Boulder should be aware that they may encounter a lion at any time and in any neighborhood.  See lion activity map for confirmed lion sightings and activity in the city between March and July 2009.   13. Are the lions that are moving and hunting near homes and people in the city becoming so habituated to people that they pose an elevated risk?  If a lion is brazen enough to kill a pet in a backyard isn’t its next logical prey a human? Numbers have shown that throughout their range lions choose to prey on deer and other four legged animals and despite ample opportunity, not on humans.  For us, it is more logical to think of our pets as a member of our human family, but to a lion your dog shares much more in common with a normal prey item such as a raccoon.   The Cougar Management Guidelines Working Group stated in 2005 that there was no scientific evidence to indicate that cougar habituation to humans affects the risk of attack. [3]  So while mountain lions may be more visible in the City and pets are certainly at an elevated risk there is nothing to suggest that this habituation increases the existing risk to people from mountain lions.    14.  When are lions most active?  Is it unusual to see a lion in the middle of the day? Lions are most active near dusk, dawn, and anytime throughout the night.  This is when they are typically moving and hunting for prey and this is when the majority of sightings, encounters and conflicts, such pet attacks, occur.  Lions can be active at any time of day or night, however, and it is not unusual or abnormal for lions to be spotted moving or hunting during daylight hours.       15.  What does it mean if a lion has eartags and/or a collar?  Are you tracking lions? Eartags are placed on wildlife that have been previously captured for any reason.  Lions are typically moved due to being in an inappropriate location (such as within the City limits of Boulder), because they were orphaned and needed to be rehabilitated before release, or because of nuisance behavior.  The eartag colors depend on the circumstance of capture, but typically in the northeast region of the state, lions will have green eartags.    Colorado Parks and Wildlife conducted a Front Range Mountain Lion Research Study between 2008 and 2015.  Lions that were captured and put into the study will have eartags, as well as a collar with GPS capabilities.  Some goals of the study included finding ways to get better lion population estimates, getting a better understanding of how lions utilize habitat to move between urban fringe areas and more rural, open lands within their home ranges, and finding ways to minimize human-lion conflicts.  More information on the study can be found at: http://cpw.state.co.us/learn/Pages/ResearchMammalsRP-12.aspx.   16.  If Colorado Parks and Wildlife wants to capture a lion, what methods are used? Whether or not capture efforts are initiated, and what methods might be used, depends on the location and the totality of the circumstances surrounding the activity.  Many times when a sighting is reported the lion typically leaves the area on its own without incident and is therefore unable to be located.  If a lion has a cache that can be located, (see Question 3), a live box trap may be set using the cache as bait, since the lion will likely return to feed on the cache at some point.  If a lion is free-roaming in the City of Boulder, we may attempt to tranquilize it if we can locate it and get close enough to effectively shoot it with a dart.  Hounds may be used in limited situations if there is an injury to a human from a lion.  When hounds are used they are carefully controlled to minimize risk of injury to the lion or hounds.       17. Who should I call when I see a lion? For general mountain lion information, including recommended precautions for living in Mountain Lion country, call: Colorado Parks and Wildlife – (303) 291-7227 or visit http://cpw.state.co.us/learn/Pages/LivingwithWildlifeLion1.aspx   To report sightings within the City of Boulder, call: Boulder Police non-emergency number – (303) 441-3333 OR Colorado Parks and Wildlife (business hours) – (303) 291-7227   To report encounters, a stationary lion, or pet attacks within the City of Boulder, call: Boulder Police non-emergency number – (303) 441-3333   Call 911 in the event of an immediate human safety issue, or if a human is injured by any wildlife   18.  When should I call about a lion? You can call anytime to report sightings, tracks, or to request information on lions and other wildlife.  The City of Boulder and Colorado Parks Wildlife would like to be made aware of sightings within the City limits (especially lions that are stationary for a period of time), pet attacks, and carcasses that appear to be caches (see Question 3).  Any human injury caused by wildlife should be reported immediately by calling 911.        [1] Vaske, J.J., Shelby, L.B., &amp; Donnelly, M.P. (2009) Estimating visitation to Boulder Open Space and Mountain Parks. (HDNRU Report No. 80).  Report for Boulder Open Space and Mountain Parks.  Fort Collins: Colorado State University, Human Dimensions of Natural Resources.   [2] Cushman, C.C., &amp; Jones, S. (2009) Wild Boulder County, A Seasonal Guide to the Natural World. Pruett Publishing.  Boulder, Colorado. [3] Cougar Management Guidelines, First Edition, 2005, Published by WildFutures, Bainbridge Island, WA.</td>\n",
       "      <td>20671</td>\n",
       "    </tr>\n",
       "  </tbody>\n",
       "</table>\n",
       "</div>"
      ],
      "text/plain": [
       "                                                                                                                                                                                                                                                                                                                                                                                                                                                                                                                                                                                                                                                                                                                                                                                                                                                                                                                                                                                                                                                                                                                                                                                                                                                                                                                                                                                                                                                                                                                                                                                                                                                                                                                                                                                                                                                                                                                                                                                                                                                                                                                                                                                                                                                                                                                                                                                                                                                                                                                                                                                                                                                                                                                                                                                                                                                                                                                                                                                                                                                                                                                                                                                                                                                                                                                                                                                                                                                                                                                                                                                                                                                                                                                                                                                                                                                                                                                                                                                                                                                                                                                                                                                                                                                                                                                                                                                                                                                                                                                                                                                                                                                                                                                                                                                                                                                                                                                                                                                                                                                                                                                                                                                                                                                                                                                                                                                                                                                                                                                                                                                                                                                                                                                                                                                                                                                                                                                                                                                                                                                                                                                                                                                                                                                                                                                                                                                                                                                                                                                                                                                                                                                                                                                                                                                                                                                                                                                                                                                                                                                                                                                                                                                                                                                                                                                                                                                                                                                                                                                                                                                                                                                                                                                                                                                                                                                                                                                                                                                                                                                                                                                                                                                                                                                                                                                                                                                                                                                                                                                                                                                                                                                                                                                                                                                                                                                                                                                                                                                                                                                                                                                                                                                                                                                                                                                                                                                                                                                                                                                                                                                                                                                                                                                                                                                                                                                                                                                                                                                                                                                                                                                                                                                                                                                                                                                                                                                                                                                                                                                                                                                                                                                                                                                                                                                                                                                                                                                                                                                                                                                                                                                                                                                                                                                                                                                                                                                                                                                                                                                                                                                                                                                                                                                                                                                                                                                                                                                                                                                                                                                                                                                                                                                                                                                                                                                                                                                                                                                                                                                                                                                                                                                                                                                                                                                                                                                                                                                                                                                                                                                                                                                                                                                                                                                                                                                                                                                                                                                                                                                                                                                                                                                                                                                                                                                                                                                                                                                                                                                                                                                                                                                                                                                                                                                                                                                                                                                                                                                                                                                                                                                                                                                                                                                                                                                                                                                                                                                                                                                                                                                                                                                                                                                                                                                                                                                                                                                                                                                                                                                                                                                                                                                                                                                                                                                                                                                                                                                                                                                                                                                                                                                                                                                                                                                                                                                                                                                                                                                                                                                                                                                                                                                                                                                                                                                                                                                                                                                                                                                                                                                                                                                                                                                                                                                                                                                                                                                                                                                                                                                                                                                                                                                                                                                                                                                                                                                                                                                                                                                                                                                                                                                                                                                                                                                                                                                                                                                                                                                                                                                                                                                                                                                                                                                                                                                                                                                                                                                                                                                                                                                                                                                                                                                                                                                                                                                                                                                                                                                                                                                                                                                                                                                                                                                                                                                                                                                                                                                                                                                                                                                                                                                                                                                                                                                                                                                                                                                                                                                                                                                                                                                                                                                                                                                                                                                                                                                                                                                                                                                                                                                                                                                                                                                                                                                                                                                                                                                                                                                                                                                                 FAQ  \\\n",
       "146  Colorado Parks and Wildlife has provided this list of Frequently Asked Questions in response to questions about mountain lion management in the City of Boulder.  Colorado Parks and Wildlife is responsible for the direct management of all wildlife in the state.   Mountain Lion Frequently Asked Questions   1.  Why are there lions in Boulder? Wildlife requires, and will seek out, adequate habitat in order to survive.  The land surrounding Boulder including Open Space and Mountain Parks, US Forest Service property, Boulder County Open Space properties and the private land in mountain subdivisions all provide excellent habitat for lions.  Habitat can be described as four basic needs: food, shelter, water, and space.  Lions come into and use the City of Boulder from the surrounding areas because within the city limits all four of these needs ca be met.  Food is found in the form of deer, small mammals, livestock, and pets.  Shelter includes not only the heavy vegetation throughout the city in yards and along irrigation ditches, but also human-made shelter such as the spaces underneath decks.  There is an abundance of water, in ponds, ditches, and in backyard water features (fountains and backyard ponds).  Finally, space is available in backyards, parks, and in the ditches and creeks, which serve as ideal movement corridors for lions and other wildlife.  There are lions in Boulder because there is quality habitat in Boulder, and lions do not recognize city limits when seeking a living.   2.  What do lions eat? Lions are opportunistic, predatory carnivores and will prey on a variety of large and small mammals, both wild and domestic.  In Colorado, lions most often prey on deer, but they will also kill and feed on other large mammals such as elk and bighorn sheep.  If left unprotected, domestic livestock such as llamas, ponies, goats, sheep and chickens can become food for lions.  Lions will also feed on a variety of small mammals such as raccoons, foxes, coyotes, squirrels, and domestic pets.  To minimize conflicts between domestic animals and lions, livestock should be kept in secure, fully enclosed structures, especially near dawn, dusk, and throughout the nighttime hours.  When allowed outdoors, pets should be closely supervised or kept in secure enclosures (with a roof) at all times.   3.  What is a cache and what does it look like? A cache is the carcass of something that a lion has killed.  Lions sometimes drag their kill a short distance to a place they feel is protected before they start to feed on it.  When a lion is finished feeding, it will partially cover, or “cache” the kill by scraping the ground substrate (eg. pine needles, twigs, leaves or dirt) over the carcass.  The lion may leave the area until the next feeding, or may guard the cache and stay very close to it.  Depending on the size of the kill, the lion may return periodically for several days to feed on the carcass.  If you see a carcass that looks like it may have been cached, stay away from the carcass and call the Boulder Police non-emergency number at 303-441-3333 (anytime) or Colorado Parks and Wildlife at 303-291-7227 (business hours – 8:00 – 5:00).      4.  Why can’t Colorado Parks and Wildlife (CPW) take all of lions out of town and keep them out? There is no feasible way to keep lions out of the City of Boulder and due to the often unpredictable nature of wildlife, there are not always opportunities to remove each lion from the city before that lion leaves on its own.   When appropriate, CPW officers will attempt to capture lions either by tranquillizing them with a dart gun, by using a baited trap, or using other techniques.  Officers may also attempt to haze lions out of the city using tools such as rubber buckshot.  Hazing, capture and/or relocation may not be appropriate, practical, or successful in every situation.  When a mountain lion is relocated two outcomes are possible: either the relocated lion returns to its former range, or a different lion moves into the vacated territory which may include a portion of the City of Boulder.   Additionally, lions can jump over very high fences and there are no proven techniques to exclude mountain lions from large areas like the City of Boulder.    5.  What does Colorado Parks and Wildlife (CPW) do about lions in town? The CPW follows a statewide directive when responding to mountain lions in the City of Boulder.  Each situation is dynamic and unique as to what actions are appropriate, safe and effective when dealing with a particular lion in a particular location.  In addition, CPW does not have the opportunity to take action on every lion that comes into town as lions often return on their own to the foothills west of the City.  Given the fact that situations involving wildlife are never the same and outcomes are rarely predictable there are no cut and dried answers for dealing with lions in town, but generally speaking the following are true:  if a lion sighting is reported in the City of Boulder an officer will respond and attempt to locate the lion.  This could be a CPW officer, a City of Boulder Open Space and Mountain Parks ranger, an animal control officer, or a police officer. While responding to the initial call and during the follow up CPW officers and City of Boulder officers work together to provide the most timely and appropriate level of response necessary.  Public safety is always the primary consideration in determining the appropriate response on lions in Boulder.     If a lion is located a CPW officer will respond and, depending on each individual situation, may attempt to haze the lion out of town or tranquilize the lion using a tranquilizer dart gun.  If a lion kills a deer or other wildlife in a yard in the city and “caches” it (see Question 3), a wildlife officer, only with permission from the homeowner, may set a trap and attempt to trap and relocate the lion.  CPW will kill lions that are aggressive towards people, or lions that are determined to be dangerous.  Additionally, the CPW makes every reasonable attempt to notify and educate neighbors and neighborhoods about lions in town by posting signs, knocking on doors, and providing information on neighborhood websites.  CPW and the City of Boulder are always working together to develop the most efficient avenues of notification and continue to try to improve communication about lions and lion activity. Boulder residents and visitors should be aware that a lion may be encountered at any time and should always take appropriate precautions to minimize conflicts with lions (See Questions 8 and 9)   6.  Is Colorado Parks and Wildlife (CPW) waiting until someone is injured or killed before doing something about the lions? CPW and City of Boulder officers that work in and around Boulder are committed to doing whatever they can to protect people and pets from mountain lions.   They currently do so not only by educating and informing residents of Boulder but also by hazing, tranquilizing, trapping, and relocating lions when appropriate and feasible, and killing individual lions when necessary (see Question 5).  Unfortunately, CPW cannot exclude lions from the city and cannot completely eliminate all risk to people and pets from mountain lions. Therefore, to minimize the risk of lion conflicts it is essential that residents and visitors to Boulder be vigilant and responsive to lion activity in their community.  CPW continues to encourage the thoughtful discussion between neighbors, CPW, and the City of Boulder on what can be done to discourage the presence of lions in the city and what measures people can take knowing that lions may be present at any time (see Questions 8, 9 and 10).    7.  What are the risks to humans from lions? In Colorado, there have been 2 confirmed deaths and 1 suspected death caused by mountain lions.  All three have occurred since 1990, and all of these incidents occurred in undeveloped areas away from towns.  In Boulder, the natural areas surrounding the city experience high visitation (an estimated 4.7 million visits to city Open Space and Mountain Parks (OSMP) property during a 12-month period in 2004 and 2005[1]) and there has been one reported attack on OSMP property which occurred in 2006.  Four additional people were injured by mountain lions in Boulder County between 1990 and 2000, all of which also occurred outside the Boulder city limits.  Across the wider range of mountain lions in the western United States and Canada, attacks on humans are also very rare.   There has been an average of 0.2 annual human deaths in all of North America from mountain lions between 1900 and 2007[2].  This number is very low compared to annual deaths from black widow spiders (1.4 between 1950-1989), domestic dogs (16 between 1979-1998) and car crashes (45,000 between 1980-2005).   While the risk of a lion attack is very low, there is still a risk associated with living or recreating in lion habitat.  The obvious facts to take into account are that lions are predators, they prey on large mammals, and throughout their range they have on very rare occasions been responsible for some human injuries and deaths.  It is up to individuals to balance these facts and decide it means to them, how they fit into an individual’s daily risk management, and what steps they are willing to take to mitigate those risks (see Questions 8 and 9).    8.  What can I do to keep myself/my kids safe?  Can my kids play outside and walk to school unsupervised? The most important thing you can do to reduce the risk to you and your family is to be aware that mountain lions are, at times, present in the City of Boulder.  The next step is to educate yourself and everyone in your house about mountain lions.  A great place to start is on the CPW website: http://cpw.state.co.us/learn/Pages/LivingwithWildlifeLion1.aspx .    Colorado Parks and Wildlife recommends that children be supervised when outside in lion, bear and coyote habitat.  The risk of injury or death to humans from lions, including children, is very low (see Question 7), however there is a minimal level of risk that cannot be completely eliminated in Boulder.   Some parents feel most comfortable when their children are directly supervised by an adult at all times.  Depending on the child’s age and maturity, others feel comfortable educating their children on what to do if they see a lion and allow their children to walk to school or play outside with a group of friends.  Some parents give their child a whistle or air horn to signal a problem or concern (wildlife or otherwise) if they are playing outside without an adult immediately present.  Teach your children to be aware of wildlife and what to do if they encounter wildlife.  Practicing scenarios ahead of time can better prepare children for an unexpected encounter with various wildlife species, including mountain lions.   Adults may decide to do more or less than what is recommended.  There are many decisions we make every day to minimize a variety of risks to our children, our pets, and ourselves.  In Boulder, there is the extra necessity of considering the risks from wildlife when making those decisions. Each individual, pet owner, and parent must evaluate the risk for themselves and make the decisions they find to be most appropriate.   9.  What can I do to keep my pets safe? There are actions you can take to reduce the risk to your pets from mountain lions.  First, it is important to note that lions routinely kill deer and other large mammals for food (see Question 2) and have killed dogs as large as a Great Pyrenees. Therefore, don’t assume because you have a large dog that it is safe.  Colorado Parks and Wildlife recommends that you always supervise your pets when they are outside.  Most pets are attacked near dusk, during the night, and near dawn (see Question 14).  Therefore, if your dog needs to go outside during these hours put it on a leash and go with it— carry a flash light, talk in a loud voice, and carefully look around your backyard before you go out.  If you must leave your pet unattended outside, build a fully enclosed kennel (including a roof or sturdy fencing on top).  Finally, keep your cat indoors.  Cats face risks not only from mountain lions but also foxes, owls, and coyotes.  Keeping them indoors is the only way to keep house cats safe.   10.  How can I discourage lions coming onto or near my property? If you remove what is considered to be habitat from your property you will reduce the incentive for a lion to come onto your property.  This habitat can be described as four basic needs.   The first is food.  Mule deer make up a large proportion of a lion’s diet.  By planting vegetation that deer do not like to eat or by using landscaping products meant to exclude deer you can remove a primary attractant.  That said, lions will also eat raccoons and small mammals.  By securing your garbage properly and blocking off access to places animals might choose to den, you will also exclude species that make up the rest of a lion’s diet.  Additionally, do not feed wildlife.  Feeding deer and fox not only has the potential to attract mountain lions to your yard but is illegal in the City of Boulder.    Next is water. Water features in a backyard are huge attractants for a variety of wildlife including lions.  If you don’t want lions in your backyard then you should not have water features.    The last two needs for habitat are shelter and space.  To limit these you should eliminate any places in your yard that serve as good hiding places.  Lions are ambush predators and stalk prey from cover. Low lying, large bushes and shrubs, spaces under decks, or any place that wildlife can rest comfortably without being seen should be removed or blocked off.  Installing outside lighting can help you see a lion if it is on your property, and may make it less inviting.   11.  Are there more lions in town now than in the past?  Some long-time residents believe so… Unfortunately, Colorado Parks and Wildlife (CPW) does not have data to definitively answer this question.  Some long-time residents of Boulder have expressed that they had rarely heard of or seen a mountain lion in the city until the recent past.  Others say that they have always known that lions come into the city from time to time.  Because so many factors affect the behavior and movement of wildlife and people’s perception of it, it is very difficult to do any more than speculate as to why reported, perceived, or actual lion activity in Boulder has increased.  Lion sightings and/or pet attacks in the City of Boulder can occur sporadically, or in clusters.   Several months may pass without a single report of a lion in the City, or several reports may be received in a single week.   The clusters of activity may be caused by one lion, or by different lions.     12. Will I encounter lions east of Broadway? Lions occasionally travel east of Broadway, though sightings on the west side of Boulder near the foothills are much more common.  In recent years lions have been confirmed in areas such as Gunbarrel, Lafayette, Longmont, Firestone, Aurora, eastern Colorado and some Midwestern states.  Anyone residing in or visiting the City of Boulder should be aware that they may encounter a lion at any time and in any neighborhood.  See lion activity map for confirmed lion sightings and activity in the city between March and July 2009.   13. Are the lions that are moving and hunting near homes and people in the city becoming so habituated to people that they pose an elevated risk?  If a lion is brazen enough to kill a pet in a backyard isn’t its next logical prey a human? Numbers have shown that throughout their range lions choose to prey on deer and other four legged animals and despite ample opportunity, not on humans.  For us, it is more logical to think of our pets as a member of our human family, but to a lion your dog shares much more in common with a normal prey item such as a raccoon.   The Cougar Management Guidelines Working Group stated in 2005 that there was no scientific evidence to indicate that cougar habituation to humans affects the risk of attack. [3]  So while mountain lions may be more visible in the City and pets are certainly at an elevated risk there is nothing to suggest that this habituation increases the existing risk to people from mountain lions.    14.  When are lions most active?  Is it unusual to see a lion in the middle of the day? Lions are most active near dusk, dawn, and anytime throughout the night.  This is when they are typically moving and hunting for prey and this is when the majority of sightings, encounters and conflicts, such pet attacks, occur.  Lions can be active at any time of day or night, however, and it is not unusual or abnormal for lions to be spotted moving or hunting during daylight hours.       15.  What does it mean if a lion has eartags and/or a collar?  Are you tracking lions? Eartags are placed on wildlife that have been previously captured for any reason.  Lions are typically moved due to being in an inappropriate location (such as within the City limits of Boulder), because they were orphaned and needed to be rehabilitated before release, or because of nuisance behavior.  The eartag colors depend on the circumstance of capture, but typically in the northeast region of the state, lions will have green eartags.    Colorado Parks and Wildlife conducted a Front Range Mountain Lion Research Study between 2008 and 2015.  Lions that were captured and put into the study will have eartags, as well as a collar with GPS capabilities.  Some goals of the study included finding ways to get better lion population estimates, getting a better understanding of how lions utilize habitat to move between urban fringe areas and more rural, open lands within their home ranges, and finding ways to minimize human-lion conflicts.  More information on the study can be found at: http://cpw.state.co.us/learn/Pages/ResearchMammalsRP-12.aspx.   16.  If Colorado Parks and Wildlife wants to capture a lion, what methods are used? Whether or not capture efforts are initiated, and what methods might be used, depends on the location and the totality of the circumstances surrounding the activity.  Many times when a sighting is reported the lion typically leaves the area on its own without incident and is therefore unable to be located.  If a lion has a cache that can be located, (see Question 3), a live box trap may be set using the cache as bait, since the lion will likely return to feed on the cache at some point.  If a lion is free-roaming in the City of Boulder, we may attempt to tranquilize it if we can locate it and get close enough to effectively shoot it with a dart.  Hounds may be used in limited situations if there is an injury to a human from a lion.  When hounds are used they are carefully controlled to minimize risk of injury to the lion or hounds.       17. Who should I call when I see a lion? For general mountain lion information, including recommended precautions for living in Mountain Lion country, call: Colorado Parks and Wildlife – (303) 291-7227 or visit http://cpw.state.co.us/learn/Pages/LivingwithWildlifeLion1.aspx   To report sightings within the City of Boulder, call: Boulder Police non-emergency number – (303) 441-3333 OR Colorado Parks and Wildlife (business hours) – (303) 291-7227   To report encounters, a stationary lion, or pet attacks within the City of Boulder, call: Boulder Police non-emergency number – (303) 441-3333   Call 911 in the event of an immediate human safety issue, or if a human is injured by any wildlife   18.  When should I call about a lion? You can call anytime to report sightings, tracks, or to request information on lions and other wildlife.  The City of Boulder and Colorado Parks Wildlife would like to be made aware of sightings within the City limits (especially lions that are stationary for a period of time), pet attacks, and carcasses that appear to be caches (see Question 3).  Any human injury caused by wildlife should be reported immediately by calling 911.        [1] Vaske, J.J., Shelby, L.B., & Donnelly, M.P. (2009) Estimating visitation to Boulder Open Space and Mountain Parks. (HDNRU Report No. 80).  Report for Boulder Open Space and Mountain Parks.  Fort Collins: Colorado State University, Human Dimensions of Natural Resources.   [2] Cushman, C.C., & Jones, S. (2009) Wild Boulder County, A Seasonal Guide to the Natural World. Pruett Publishing.  Boulder, Colorado. [3] Cougar Management Guidelines, First Edition, 2005, Published by WildFutures, Bainbridge Island, WA.   \n",
       "\n",
       "     length  \n",
       "146  20671   "
      ]
     },
     "execution_count": 75,
     "metadata": {},
     "output_type": "execute_result"
    }
   ],
   "source": [
    "faq[faq.length == faq.length.max()]"
   ]
  },
  {
   "cell_type": "markdown",
   "metadata": {},
   "source": [
    "**So, people are worried about mountain lions!!!**"
   ]
  },
  {
   "cell_type": "markdown",
   "metadata": {},
   "source": [
    "## NLP"
   ]
  },
  {
   "cell_type": "code",
   "execution_count": 92,
   "metadata": {},
   "outputs": [
    {
     "name": "stdout",
     "output_type": "stream",
     "text": [
      "[nltk_data] Downloading package stopwords to\n",
      "[nltk_data]     /Users/willscott/nltk_data...\n",
      "[nltk_data]   Package stopwords is already up-to-date!\n"
     ]
    },
    {
     "data": {
      "text/plain": [
       "True"
      ]
     },
     "execution_count": 92,
     "metadata": {},
     "output_type": "execute_result"
    }
   ],
   "source": [
    "import string\n",
    "from sklearn.feature_extraction.text import CountVectorizer\n",
    "nltk.download('stopwords')"
   ]
  },
  {
   "cell_type": "code",
   "execution_count": 85,
   "metadata": {},
   "outputs": [],
   "source": [
    "def text_process(text):\n",
    "    # Remove punctuation\n",
    "    nopunc = [char for char in text if char not in string.punctuation]\n",
    "    nopunc = ''.join(nopunc)\n",
    "    \n",
    "    # Remove stopwords\n",
    "    return [word.lower() for word in nopunc.split() if word.lower() not in stopwords.words('english')]"
   ]
  },
  {
   "cell_type": "code",
   "execution_count": 88,
   "metadata": {},
   "outputs": [
    {
     "data": {
      "text/plain": [
       "0    [Visit, Boulder, County, website, Birth, Certificate, Death, Certificate, information.]                                                                                                                                                                                                                                                                                                                                                                                                                                                                                                                                                                                                                                                                                                                                                                                                                                          \n",
       "1    [View, online, version, Boulder, Revised, Code,, City, Boulder's, municipal, charter, municipal, code., Please, contact, Code, Enforcement, 303-441-3333, ask, questions, report, code, violation.]                                                                                                                                                                                                                                                                                                                                                                                                                                                                                                                                                                                                                                                                                                                              \n",
       "2    [injured,, property, damaged,, City, Boulder, employee, city-owned, property., now?Learn, filing, Claims, City., Colorado, law, requires, file, written, notice, claim, Boulder, City, Attorney's, Office, file, lawsuit, City, Boulder., question, claim, already, filed, city., contact?, Cannon, Cochran, Management, Services, (CCMSI), City, BoulderPhone:, (303), 804-2018, Fax:, (970)484-1613cityofboulder@ccmsi.comP.O., Box, 4998Greenwood, Village,, CO, 80155How, long, file, claim, city?, Colorado, state, statute, allows, 180, days, date, loss.Do, need, hire, attorney, file, claim, city?, welcome, hire, private, attorney, city, glad, work, representative,, private, attorney, necessary, file, claim., insurance, company?, fit, claims, process?, made, claim, insurance, company, repair, damaged, property,, insurance, company, evaluate, possibility, reimbursement, city., insurance, company, ...]\n",
       "3    [City, Attorney, represent?The, City, Attorney, advises, represents, Boulder, City, Council,, city, manager,, city, manager's, staff, legal, dispute., Public, Feedback, City, Attorney's, Office, suggestions, help, us, serve, Boulder, better., Please, share, ideas., receive, personal, response, City, Attorney, Tom, Carr, soon, possible., Feel, free, call, personally, 303-441-3020, prefer, use, form., handle, submission, care,, seriousness, discretion.]                                                                                                                                                                                                                                                                                                                                                                                                                                                          \n",
       "4    [register, motor, vehicle, obtain, drivers, license, license, plate,, visit, Boulder, County, Motor, Vehicle, website, call, 303-413-7710.]                                                                                                                                                                                                                                                                                                                                                                                                                                                                                                                                                                                                                                                                                                                                                                                      \n",
       "Name: FAQ, dtype: object"
      ]
     },
     "execution_count": 88,
     "metadata": {},
     "output_type": "execute_result"
    }
   ],
   "source": [
    "faq['FAQ'].head().apply(text_process)"
   ]
  },
  {
   "cell_type": "code",
   "execution_count": 93,
   "metadata": {},
   "outputs": [
    {
     "name": "stdout",
     "output_type": "stream",
     "text": [
      "11366\n"
     ]
    }
   ],
   "source": [
    "# Might take a while...\n",
    "bow_transformer = CountVectorizer(analyzer=text_process).fit(faq.FAQ)\n",
    "\n",
    "# Print total number of vocab words\n",
    "print(len(bow_transformer.vocabulary_))"
   ]
  },
  {
   "cell_type": "code",
   "execution_count": 99,
   "metadata": {},
   "outputs": [
    {
     "name": "stdout",
     "output_type": "stream",
     "text": [
      "Visit the Boulder County website for Birth Certificate and Death Certificate information.\n"
     ]
    }
   ],
   "source": [
    "# Let's take one text message and get its bag-of-words counts as a vector, putting to use our new `bow_transformer`:\n",
    "entry = faq['FAQ'][0]\n",
    "print(entry)"
   ]
  },
  {
   "cell_type": "code",
   "execution_count": 100,
   "metadata": {},
   "outputs": [
    {
     "name": "stdout",
     "output_type": "stream",
     "text": [
      "  (0, 1182)\t1\n",
      "  (0, 1193)\t1\n",
      "  (0, 1319)\t2\n",
      "  (0, 1475)\t1\n",
      "  (0, 1524)\t1\n",
      "  (0, 3180)\t1\n",
      "  (0, 6929)\t1\n",
      "  (0, 11124)\t1\n",
      "(1, 11366)\n"
     ]
    }
   ],
   "source": [
    "# Now let's see its vector representation:\n",
    "bow = bow_transformer.transform([entry])\n",
    "print(bow)\n",
    "print(bow.shape)"
   ]
  },
  {
   "cell_type": "markdown",
   "metadata": {},
   "source": [
    "This means that there are 8 unique words in message number 0 (after removing common stop words). One of them appears twice, the rest only once. Let's go ahead and check and confirm which one appears twice:"
   ]
  },
  {
   "cell_type": "code",
   "execution_count": 101,
   "metadata": {},
   "outputs": [
    {
     "name": "stdout",
     "output_type": "stream",
     "text": [
      "Certificate\n"
     ]
    }
   ],
   "source": [
    "print(bow_transformer.get_feature_names()[1319])"
   ]
  },
  {
   "cell_type": "markdown",
   "metadata": {},
   "source": [
    "Now we can use .transform on our Bag-of-Words (bow) transformed object and transform the entire DataFrame. Let's go ahead and check out how the bag-of-words counts for the entire FAQ corpus is a large, sparse matrix:"
   ]
  },
  {
   "cell_type": "code",
   "execution_count": 102,
   "metadata": {},
   "outputs": [
    {
     "name": "stdout",
     "output_type": "stream",
     "text": [
      "Shape of Sparse Matrix:  (250, 11366)\n",
      "Amount of Non-Zero occurences:  28663\n"
     ]
    }
   ],
   "source": [
    "faq_bow = bow_transformer.transform(faq['FAQ'])\n",
    "print('Shape of Sparse Matrix: ', faq_bow.shape)\n",
    "print('Amount of Non-Zero occurences: ', faq_bow.nnz)"
   ]
  },
  {
   "cell_type": "code",
   "execution_count": 105,
   "metadata": {},
   "outputs": [
    {
     "name": "stdout",
     "output_type": "stream",
     "text": [
      "sparsity: 1% Non-zero values\n"
     ]
    }
   ],
   "source": [
    "sparsity = (100.0 * faq_bow.nnz / (faq_bow.shape[0] * faq_bow.shape[1]))\n",
    "print('sparsity: {}% Non-zero values'.format(round(sparsity)))"
   ]
  },
  {
   "cell_type": "code",
   "execution_count": null,
   "metadata": {},
   "outputs": [],
   "source": []
  }
 ],
 "metadata": {
  "kernelspec": {
   "display_name": "Python 3",
   "language": "python",
   "name": "python3"
  },
  "language_info": {
   "codemirror_mode": {
    "name": "ipython",
    "version": 3
   },
   "file_extension": ".py",
   "mimetype": "text/x-python",
   "name": "python",
   "nbconvert_exporter": "python",
   "pygments_lexer": "ipython3",
   "version": "3.6.5"
  }
 },
 "nbformat": 4,
 "nbformat_minor": 2
}
