{
 "cells": [
  {
   "cell_type": "code",
   "execution_count": 2,
   "metadata": {
    "scrolled": true
   },
   "outputs": [],
   "source": [
    "import numpy as np\n",
    "import pandas as pd\n",
    "import unicodedata\n",
    "import re\n",
    "import matplotlib as plt\n",
    "import seaborn as sns\n",
    "import nltk \n",
    "\n",
    "# Uncomment to see full cell text\n",
    "pd.set_option('display.max_colwidth', 0)"
   ]
  },
  {
   "cell_type": "code",
   "execution_count": 3,
   "metadata": {},
   "outputs": [],
   "source": [
    "raw = pd.read_excel(\"../data/raw/inquire-boulder-faq-text/inquire-boulder-active-faqs-2019-01-02.xls.xlsx\")"
   ]
  },
  {
   "cell_type": "code",
   "execution_count": 3,
   "metadata": {},
   "outputs": [
    {
     "data": {
      "text/html": [
       "<div>\n",
       "<style scoped>\n",
       "    .dataframe tbody tr th:only-of-type {\n",
       "        vertical-align: middle;\n",
       "    }\n",
       "\n",
       "    .dataframe tbody tr th {\n",
       "        vertical-align: top;\n",
       "    }\n",
       "\n",
       "    .dataframe thead th {\n",
       "        text-align: right;\n",
       "    }\n",
       "</style>\n",
       "<table border=\"1\" class=\"dataframe\">\n",
       "  <thead>\n",
       "    <tr style=\"text-align: right;\">\n",
       "      <th></th>\n",
       "      <th>Topic</th>\n",
       "      <th>Category</th>\n",
       "      <th>Department</th>\n",
       "      <th>FAQ</th>\n",
       "      <th>Active</th>\n",
       "      <th>Updated</th>\n",
       "    </tr>\n",
       "  </thead>\n",
       "  <tbody>\n",
       "    <tr>\n",
       "      <th>count</th>\n",
       "      <td>254</td>\n",
       "      <td>254</td>\n",
       "      <td>254</td>\n",
       "      <td>250</td>\n",
       "      <td>254</td>\n",
       "      <td>254</td>\n",
       "    </tr>\n",
       "    <tr>\n",
       "      <th>unique</th>\n",
       "      <td>254</td>\n",
       "      <td>37</td>\n",
       "      <td>19</td>\n",
       "      <td>250</td>\n",
       "      <td>1</td>\n",
       "      <td>133</td>\n",
       "    </tr>\n",
       "    <tr>\n",
       "      <th>top</th>\n",
       "      <td>Homelessness and Homeless Services</td>\n",
       "      <td>Transportation</td>\n",
       "      <td>Public Works</td>\n",
       "      <td>If you are wanting to host a block party, please download an application and fill it out. If you have any questions on your application process, please call 303-441-1936.</td>\n",
       "      <td>Yes</td>\n",
       "      <td>2016-11-22 00:00:00</td>\n",
       "    </tr>\n",
       "    <tr>\n",
       "      <th>freq</th>\n",
       "      <td>1</td>\n",
       "      <td>26</td>\n",
       "      <td>69</td>\n",
       "      <td>1</td>\n",
       "      <td>254</td>\n",
       "      <td>13</td>\n",
       "    </tr>\n",
       "    <tr>\n",
       "      <th>first</th>\n",
       "      <td>NaN</td>\n",
       "      <td>NaN</td>\n",
       "      <td>NaN</td>\n",
       "      <td>NaN</td>\n",
       "      <td>NaN</td>\n",
       "      <td>2013-06-15 00:00:00</td>\n",
       "    </tr>\n",
       "    <tr>\n",
       "      <th>last</th>\n",
       "      <td>NaN</td>\n",
       "      <td>NaN</td>\n",
       "      <td>NaN</td>\n",
       "      <td>NaN</td>\n",
       "      <td>NaN</td>\n",
       "      <td>2019-01-02 00:00:00</td>\n",
       "    </tr>\n",
       "  </tbody>\n",
       "</table>\n",
       "</div>"
      ],
      "text/plain": [
       "                                     Topic        Category     Department  \\\n",
       "count   254                                 254             254             \n",
       "unique  254                                 37              19              \n",
       "top     Homelessness and Homeless Services  Transportation  Public Works    \n",
       "freq    1                                   26              69              \n",
       "first   NaN                                 NaN             NaN             \n",
       "last    NaN                                 NaN             NaN             \n",
       "\n",
       "                                                                                                                                                                               FAQ  \\\n",
       "count   250                                                                                                                                                                          \n",
       "unique  250                                                                                                                                                                          \n",
       "top     If you are wanting to host a block party, please download an application and fill it out. If you have any questions on your application process, please call 303-441-1936.   \n",
       "freq    1                                                                                                                                                                            \n",
       "first   NaN                                                                                                                                                                          \n",
       "last    NaN                                                                                                                                                                          \n",
       "\n",
       "       Active              Updated  \n",
       "count   254    254                  \n",
       "unique  1      133                  \n",
       "top     Yes    2016-11-22 00:00:00  \n",
       "freq    254    13                   \n",
       "first   NaN    2013-06-15 00:00:00  \n",
       "last    NaN    2019-01-02 00:00:00  "
      ]
     },
     "execution_count": 3,
     "metadata": {},
     "output_type": "execute_result"
    }
   ],
   "source": [
    "raw.describe()"
   ]
  },
  {
   "cell_type": "code",
   "execution_count": 4,
   "metadata": {},
   "outputs": [],
   "source": [
    "df = raw.set_index(keys=['Department', 'Category', 'Topic']).sort_index().drop(labels=('Active'), axis=1).dropna()"
   ]
  },
  {
   "cell_type": "code",
   "execution_count": 5,
   "metadata": {},
   "outputs": [
    {
     "name": "stdout",
     "output_type": "stream",
     "text": [
      "<class 'pandas.core.frame.DataFrame'>\n",
      "MultiIndex: 250 entries, (City Attorney , Legal, Birth and Death Certificate Request) to (Public Works , Website, Boulder Measures)\n",
      "Data columns (total 2 columns):\n",
      "FAQ        250 non-null object\n",
      "Updated    250 non-null datetime64[ns]\n",
      "dtypes: datetime64[ns](1), object(1)\n",
      "memory usage: 7.5+ KB\n"
     ]
    }
   ],
   "source": [
    "df.info()"
   ]
  },
  {
   "cell_type": "code",
   "execution_count": 4,
   "metadata": {},
   "outputs": [],
   "source": [
    "faq = raw.drop(labels=('Active'), axis=1).dropna()"
   ]
  },
  {
   "cell_type": "code",
   "execution_count": 7,
   "metadata": {},
   "outputs": [],
   "source": [
    "faq['length'] = faq.FAQ.apply(len)"
   ]
  },
  {
   "cell_type": "code",
   "execution_count": 8,
   "metadata": {},
   "outputs": [
    {
     "data": {
      "text/plain": [
       "<matplotlib.axes._subplots.AxesSubplot at 0x10dd50160>"
      ]
     },
     "execution_count": 8,
     "metadata": {},
     "output_type": "execute_result"
    },
    {
     "data": {
      "image/png": "[encoded data removed]",
      "text/plain": [
       "<Figure size 432x288 with 1 Axes>"
      ]
     },
     "metadata": {},
     "output_type": "display_data"
    }
   ],
   "source": [
    "faq.length.plot(kind='hist', bins=50)"
   ]
  },
  {
   "cell_type": "code",
   "execution_count": 5,
   "metadata": {},
   "outputs": [],
   "source": [
    "def process_text(entry):\n",
    "    entry = entry.replace('\\n', ' ')\n",
    "    entry = unicodedata.normalize(\"NFKD\", entry)\n",
    "    entry = entry.replace('.', '. ')\n",
    "    entry = entry.replace('?', '? ')\n",
    "    return entry + ' '\n",
    "\n",
    "def find_heading(row):\n",
    "    entry = row['FAQ']\n",
    "    if entry.find('?') < 0:\n",
    "        return entry\n",
    "    q = entry.split('?')[0].split('. ')[-1]\n",
    "    heading = entry.split(q)[0]\n",
    "    return heading\n",
    "\n",
    "def strip_heading(row):\n",
    "    return row['FAQ'].replace(row['heading'], '')\n",
    "\n",
    "def find_questions(entry):\n",
    "    questions = []\n",
    "    qna = entry.split('?')\n",
    "    for x in qna:\n",
    "        if x.find('. ') < 0:\n",
    "            q = x\n",
    "        else:\n",
    "            q = x.split('. ')[-1]\n",
    "        if not q.isspace() and q:\n",
    "            questions.append(q.strip())\n",
    "    return questions\n",
    "\n",
    "def find_answers(entry):\n",
    "    answers = []\n",
    "    a = ''\n",
    "    qna = entry.split('?')\n",
    "    for x in qna:\n",
    "        if x.find('. ') < 0:\n",
    "            continue\n",
    "        else:\n",
    "            a = x.replace(x.split('. ')[-1], '')\n",
    "        if not a.isspace() and a:\n",
    "                answers.append(a.strip())\n",
    "    return answers"
   ]
  },
  {
   "cell_type": "code",
   "execution_count": 6,
   "metadata": {},
   "outputs": [],
   "source": [
    "faq.FAQ = faq.FAQ.apply(process_text)\n",
    "faq['heading'] = faq.apply(find_heading, axis=1)\n",
    "faq['FAQ'] = faq.apply(strip_heading, axis=1)"
   ]
  },
  {
   "cell_type": "code",
   "execution_count": 7,
   "metadata": {},
   "outputs": [],
   "source": [
    "faq['questions'] = faq.FAQ.apply(find_questions)\n",
    "faq['answers'] = faq.FAQ.apply(find_answers)"
   ]
  },
  {
   "cell_type": "code",
   "execution_count": 8,
   "metadata": {},
   "outputs": [
    {
     "data": {
      "text/plain": [
       "\"I have been injured, or my property has been damaged, by a City of Boulder employee or by city-owned property. What do I do now?Learn about filing Claims Against the City. Colorado law requires you to file a written notice of claim with the Boulder City Attorney's Office before you can file a lawsuit against the City of Boulder. I have a question about a claim I have already filed against the city. Who do I contact? Cannon Cochran Management Services (CCMSI) for City of BoulderPhone: (303) 804-2018 Fax: (970)484-1613cityofboulder@ccmsi.comP.O. Box 4998Greenwood Village, CO 80155How long do I have to file a claim against the city? Colorado state statute allows 180 days from the date of loss.Do I need to hire an attorney to file a claim against the city? While you are welcome to hire a private attorney and the city will be glad to work with your representative, a private attorney is not necessary to file a claim. What about my insurance company? How do they fit in with this claims process? If you have made a claim with your insurance company for repair of damaged property, your insurance company will evaluate the possibility of reimbursement from the city. If the insurance company is successful, they may either refund your deductible directly to you or the city may send you the refund.\""
      ]
     },
     "execution_count": 8,
     "metadata": {},
     "output_type": "execute_result"
    }
   ],
   "source": [
    "raw.iloc[43].FAQ"
   ]
  },
  {
   "cell_type": "code",
   "execution_count": 149,
   "metadata": {},
   "outputs": [],
   "source": [
    "def count_qna(row):\n",
    "    #print('%d:\\t%d\\t%d' % (row.name, len(row.questions), len(row.answers)))\n",
    "    return abs(len(row.questions) - len(row.answers))\n",
    "s = faq.apply(count_qna, axis=1)\n",
    "s.sum()"
   ]
  },
  {
   "cell_type": "code",
   "execution_count": null,
   "metadata": {},
   "outputs": [],
   "source": [
    "def reform(row):\n",
    "    "
   ]
  },
  {
   "cell_type": "code",
   "execution_count": 179,
   "metadata": {},
   "outputs": [
    {
     "data": {
      "text/plain": [
       "\" What do I do now? Learn about filing Claims Against the City.  Colorado law requires you to file a written notice of claim with the Boulder City Attorney's Office before you can file a lawsuit against the City of Boulder.  I have a question about a claim I have already filed against the city.  Who do I contact?  Cannon Cochran Management Services (CCMSI) for City of BoulderPhone: (303) 804-2018 Fax: (970)484-1613cityofboulder@ccmsi. comP. O.  Box 4998Greenwood Village, CO 80155How long do I have to file a claim against the city?  Colorado state statute allows 180 days from the date of loss. Do I need to hire an attorney to file a claim against the city?  While you are welcome to hire a private attorney and the city will be glad to work with your representative, a private attorney is not necessary to file a claim.  What about my insurance company?  How do they fit in with this claims process?  If you have made a claim with your insurance company for repair of damaged property, your insurance company will evaluate the possibility of reimbursement from the city.  If the insurance company is successful, they may either refund your deductible directly to you or the city may send you the refund.  \""
      ]
     },
     "execution_count": 179,
     "metadata": {},
     "output_type": "execute_result"
    }
   ],
   "source": [
    "faq.iloc[43].FAQ"
   ]
  },
  {
   "cell_type": "code",
   "execution_count": 17,
   "metadata": {},
   "outputs": [
    {
     "name": "stdout",
     "output_type": "stream",
     "text": [
      "-----------------\n",
      " What do I do now? \n",
      "****\n",
      "Learn about filing Claims Against the City.  Colorado law requires you to file a written notice of claim with the Boulder City Attorney's Office before you can file a lawsuit against the City of Boulder.  I have a question about a claim I have already filed against the city. \n",
      "-----------------\n",
      " Who do I contact? \n",
      "****\n",
      " Cannon Cochran Management Services (CCMSI) for City of BoulderPhone: (303) 804-2018 Fax: (970)484-1613cityofboulder@ccmsi. comP. O.  Box 4998Greenwood Village, CO 80155\n",
      "-----------------\n",
      "How long do I have to file a claim against the city? \n",
      "****\n",
      " Colorado state statute allows 180 days from the date of loss. \n",
      "-----------------\n",
      "Do I need to hire an attorney to file a claim against the city? \n",
      "****\n",
      " While you are welcome to hire a private attorney and the city will be glad to work with your representative, a private attorney is not necessary to file a claim. \n",
      "-----------------\n",
      " What about my insurance company?  How do they fit in with this claims process? \n",
      "****\n",
      " If you have made a claim with your insurance company for repair of damaged property, your insurance company will evaluate the possibility of reimbursement from the city.  If the insurance company is successful, they may either refund your deductible directly to you or the city may send you the refund. \n"
     ]
    }
   ],
   "source": [
    "match = re.findall(r'([^.]+\\?\\s)([^?]+(?:\\.\\s|\\w(?=[A-Z])))', faq.iloc[43].FAQ)\n",
    "if(match):\n",
    "    for s in match:\n",
    "        print('-----------------')\n",
    "        print(s[0][:])\n",
    "        print('****')\n",
    "        print(s[1][:])\n",
    "else:\n",
    "    print('none')"
   ]
  },
  {
   "cell_type": "code",
   "execution_count": null,
   "metadata": {},
   "outputs": [],
   "source": []
  },
  {
   "cell_type": "markdown",
   "metadata": {},
   "source": [
    "## NLP"
   ]
  },
  {
   "cell_type": "code",
   "execution_count": 14,
   "metadata": {},
   "outputs": [],
   "source": [
    "import string\n",
    "from sklearn.feature_extraction.text import CountVectorizer\n",
    "from sklearn.feature_extraction.text import TfidfTransformer\n",
    "from nltk.corpus import stopwords\n",
    "#nltk.download('stopwords')"
   ]
  },
  {
   "cell_type": "code",
   "execution_count": 15,
   "metadata": {},
   "outputs": [],
   "source": [
    "def text_process(text):\n",
    "    # Remove punctuation\n",
    "    nopunc = [char for char in text if char not in string.punctuation]\n",
    "    nopunc = ''.join(nopunc)\n",
    "    \n",
    "    # Remove stopwords\n",
    "    return [word.lower() for word in nopunc.split() if word.lower() not in stopwords.words('english')]"
   ]
  },
  {
   "cell_type": "code",
   "execution_count": 39,
   "metadata": {},
   "outputs": [
    {
     "data": {
      "text/plain": [
       "0    [city, boulder, committed, making, housing, community, available, variety, people, including, could, otherwise, purchase, home, boulders, housing, market, division, housing, offers, opportunities, homeownership, low, moderate, incomes, payment, assistance, market, rate, homes, homes, must, sold, affordable, prices, long, take, become, incomecertifiedgenerally, two, weeks, needs, applicationeveryone, lives, household, part, household, addition, people, listed, property, title, household, members, include, individuals, legal, spouse, domestic, partner, commonlaw, spouse, childrenunder, 18, reside, applicant, least, 50, percent, time, andor, significant, applicant, chooses, include, member, hisher, household, occupying, house, applicants, spouse, must, included, unless, legally, divorced, separated, persons, counted, include, foster, children, unborn, children, children, 18, reside, applicant, less, ...]                                                                             \n",
       "1    [city, boulder, committed, maintaining, variety, rental, housing, options, affordable, residents, income, levels, lowincomesubsidized, rentals, boulder, housing, partners, 7205644600, thistle, community, housing, 3034430007, boulder, county, housing, authority, 7205642284, senior, rentals, housingsenior, housing, guide, boulder, county, pets, rental, housinghumane, society, boulder, valley, list, petfriendly, rental, properties, rental, licensing, city, boulders, rental, housing, inspection, licensing, program, exists, preserve, public, safety, establishes, minimum, standards, basic, equipment, facilities, rental, property, information, see, rental, licensing, renters, rights, landlordtenant, information, mediation, rental, properties, located, within, boulder, city, limits, contact, community, mediation, services, 3034414364, university, colorado, students, call, offcampus, housing, neighborhood, relations, 3034927053, rental, properties, unincorporated, boulder, county, ...]\n",
       "2    [boulder, municipal, airport, voluntary, noise, abatement, program, noise, abatement, procedures, designed, minimize, level, aircraft, noise, near, residential, areas, ensuring, safety, flight, operations, pilots, asked, aware, noisesensitive, neighborhoods, follow, voluntary, noise, abatement, procedures, operations, report, noise, concern, complete, noise, abatement, report, form, call, 3034413108]                                                                                                                                                                                                                                                                                                                                                                                                                                                                                                                                                                                                            \n",
       "3    [boulder, municipal, airport, locatedthe, boulder, municipal, airport, located, along, 3300, block, airport, road, learn, leasing, property, boulder, municipal, airport, information, visit, leasing, information, web, page, airlines, fly, boulder, municipal, airport, boulder, municipal, airport, served, commercial, airlines, visiting, denverboulder, area, suggest, flying, denver, international, airport, several, shuttle, services, public, bus, service, rtd, skyride, provide, ground, transportation, denver, international, airport, boulder, area, get, information, aircraft, noise, policiesplease, refer, noise, abatement, web, page, citys, role, airport, operations, city, responsible, safe, efficient, operation, maintenance, airport, city, works, balance, impacts, airport, operations, needs, airport, users, needs, community, city, controls, land, use, around, boulder, municipal, airport, ...]                                                                                          \n",
       "4    [city, boulder, transportation, maintenance, department, maintains, alleys, needed, basis, alleys, typically, constructed, sandstone, material, mixture, called, road, base, assessed, annually, priorities, set, maintenance, activities, activities, may, include, potholing, reconstruction, grading, majority, alleys, getting, graded, annual, basis, request, alley, maintenance, please, call, 3034413200, 7, 500, pm, mondayfriday, submit, service, request, item, make, service, request, area]                                                                                                                                                                                                                                                                                                                                                                                                                                                                                                                      \n",
       "Name: FAQ, dtype: object"
      ]
     },
     "execution_count": 39,
     "metadata": {},
     "output_type": "execute_result"
    }
   ],
   "source": [
    "faq['FAQ'].head().apply(text_process)"
   ]
  },
  {
   "cell_type": "code",
   "execution_count": 40,
   "metadata": {},
   "outputs": [
    {
     "name": "stdout",
     "output_type": "stream",
     "text": [
      "7054\n"
     ]
    }
   ],
   "source": [
    "# Might take a while...\n",
    "bow_transformer = CountVectorizer(analyzer=text_process).fit(faq.FAQ)\n",
    "\n",
    "# Print total number of vocab words\n",
    "print(len(bow_transformer.vocabulary_))"
   ]
  },
  {
   "cell_type": "code",
   "execution_count": 41,
   "metadata": {},
   "outputs": [
    {
     "name": "stdout",
     "output_type": "stream",
     "text": [
      "The City of Boulder is committed to making housing in our community available to a variety of people, including those who could not otherwise purchase a home in Boulder's housing market. The Division of Housing offers opportunities for homeownership to those with low and moderate incomes - from down payment assistance on market rate homes to homes that must be sold at affordable prices. How long does it take to become income-certified?Generally up to two weeks. Who needs to be on the application?Everyone who lives in the household or is part of the household, in addition to all people who will be listed on the property title. Household members should include all individuals: legal spouse, domestic partner, or common-law spouse; children(under 18 who reside with the applicant at least 50 percent of the time; and/or a significant other whom the applicant chooses to include as a member of his/her household, who will be occupying the house. The applicant's spouse must be included unless they are legally divorced or separated. Persons not counted include foster children, unborn children, and children under 18 who reside with the applicant less then 50 percent of the time. How is annual income calculated?Annual income is defined as the anticipated total income for the next 12-month period received from all sources by each member (over the age of 18) of the household. It is assumed that today's circumstances will continue for the next 12 months. The applicant is required to verify this by either submitting a letter from his/her employer stating his/her annual wage or by completing an employer verification form. To obtain this form, call the Housing Division at 303-441-3157 ext. 2. How is income verified for self-employed people?Self-employed individuals should submit copies of their last three years of federal income-tax forms and must also submit an up-to-date profit/loss statement. How are assets calculated?Assets are calculated based on annual income earned (interest), not the value of the asset itself. Can I combine any programs?Neither First Home (20 percent down payment) nor the House to Home (15 percent down payment) Assistance Programs can be combined with a HomeWorks (permanently affordable) Home, since these homes have already been subsidized by the City of Boulder or the developer. The 3 percent solution may be used with HomeWorks. Can I have a cosigner?Yes, a non-occupying cosigner will not be included in the household. However, if the cosigner's name appears on the title, her/his income must be included in the income certification application. Do I have to be a first-time home buyer?To qualify for the down payment assistance programs, you must be a first-time home buyer, which means you have not owned a home in the last three years unless you have been divorced (in the last three years) or are a displaced homemaker. You do not have to be a first-time home buyer to purchase an Affordable Home. Do I have to purchase in the city limits of Boulder?Yes. Find out if the property is located in the Boulder City Limits. How are improvements calculated for Affordable Homes?The low-income covenant lists all of the pre-approved capital improvements. The home owner should contact the city before the improvement has begun in order to ensure how the improvement will be calculated into the resale price. Homeowners are allowed to add a maximum of $25,000 to the resale calculation for pre-approved capital improvements. For more information, please visit the Affordable Homeownership Program website.    \n"
     ]
    }
   ],
   "source": [
    "# Let's take one text message and get its bag-of-words counts as a vector, putting to use our new `bow_transformer`:\n",
    "entry = faq['FAQ'][0]\n",
    "print(entry)"
   ]
  },
  {
   "cell_type": "code",
   "execution_count": 42,
   "metadata": {},
   "outputs": [
    {
     "name": "stdout",
     "output_type": "stream",
     "text": [
      "  (0, 26)\t1\n",
      "  (0, 37)\t1\n",
      "  (0, 47)\t1\n",
      "  (0, 61)\t3\n",
      "  (0, 86)\t1\n",
      "  (0, 87)\t1\n",
      "  (0, 147)\t1\n",
      "  (0, 165)\t1\n",
      "  (0, 218)\t1\n",
      "  (0, 319)\t2\n",
      "  (0, 538)\t1\n",
      "  (0, 542)\t1\n",
      "  (0, 608)\t5\n",
      "  (0, 614)\t1\n",
      "  (0, 665)\t1\n",
      "  (0, 672)\t1\n",
      "  (0, 673)\t1\n",
      "  (0, 711)\t1\n",
      "  (0, 728)\t3\n",
      "  (0, 737)\t1\n",
      "  (0, 754)\t1\n",
      "  (0, 757)\t4\n",
      "  (0, 758)\t1\n",
      "  (0, 760)\t1\n",
      "  (0, 762)\t1\n",
      "  :\t:\n",
      "  (0, 6098)\t1\n",
      "  (0, 6185)\t2\n",
      "  (0, 6189)\t1\n",
      "  (0, 6198)\t1\n",
      "  (0, 6277)\t1\n",
      "  (0, 6393)\t3\n",
      "  (0, 6417)\t2\n",
      "  (0, 6428)\t2\n",
      "  (0, 6432)\t1\n",
      "  (0, 6451)\t1\n",
      "  (0, 6567)\t1\n",
      "  (0, 6583)\t1\n",
      "  (0, 6624)\t2\n",
      "  (0, 6656)\t1\n",
      "  (0, 6666)\t1\n",
      "  (0, 6703)\t1\n",
      "  (0, 6716)\t1\n",
      "  (0, 6738)\t1\n",
      "  (0, 6739)\t1\n",
      "  (0, 6740)\t1\n",
      "  (0, 6784)\t1\n",
      "  (0, 6809)\t1\n",
      "  (0, 6865)\t1\n",
      "  (0, 6877)\t1\n",
      "  (0, 7005)\t3\n",
      "(1, 7054)\n"
     ]
    }
   ],
   "source": [
    "# Now let's see its vector representation:\n",
    "bow = bow_transformer.transform([entry])\n",
    "print(bow)\n",
    "print(bow.shape)"
   ]
  },
  {
   "cell_type": "markdown",
   "metadata": {},
   "source": [
    "This means that there are 8 unique words in message number 0 (after removing common stop words). One of them appears twice, the rest only once. Let's go ahead and check and confirm which one appears twice:"
   ]
  },
  {
   "cell_type": "code",
   "execution_count": 44,
   "metadata": {},
   "outputs": [
    {
     "name": "stdout",
     "output_type": "stream",
     "text": [
      "years\n"
     ]
    }
   ],
   "source": [
    "print(bow_transformer.get_feature_names()[7005])"
   ]
  },
  {
   "cell_type": "markdown",
   "metadata": {},
   "source": [
    "Now we can use .transform on our Bag-of-Words (bow) transformed object and transform the entire DataFrame. Let's go ahead and check out how the bag-of-words counts for the entire FAQ corpus is a large, sparse matrix:"
   ]
  },
  {
   "cell_type": "code",
   "execution_count": 45,
   "metadata": {},
   "outputs": [
    {
     "name": "stdout",
     "output_type": "stream",
     "text": [
      "Shape of Sparse Matrix:  (250, 7054)\n",
      "Amount of Non-Zero occurences:  24520\n"
     ]
    }
   ],
   "source": [
    "faq_bow = bow_transformer.transform(faq['FAQ'])\n",
    "print('Shape of Sparse Matrix: ', faq_bow.shape)\n",
    "print('Amount of Non-Zero occurences: ', faq_bow.nnz)"
   ]
  },
  {
   "cell_type": "code",
   "execution_count": 46,
   "metadata": {},
   "outputs": [
    {
     "name": "stdout",
     "output_type": "stream",
     "text": [
      "sparsity: 1% Non-zero values\n"
     ]
    }
   ],
   "source": [
    "sparsity = (100.0 * faq_bow.nnz / (faq_bow.shape[0] * faq_bow.shape[1]))\n",
    "print('sparsity: {}% Non-zero values'.format(round(sparsity)))"
   ]
  },
  {
   "cell_type": "code",
   "execution_count": 47,
   "metadata": {},
   "outputs": [
    {
     "name": "stdout",
     "output_type": "stream",
     "text": [
      "  (0, 7005)\t0.09582936818073878\n",
      "  (0, 6877)\t0.03681836557246331\n",
      "  (0, 6865)\t0.024657504319853925\n",
      "  (0, 6809)\t0.05202494620510897\n",
      "  (0, 6784)\t0.020971819727887548\n",
      "  (0, 6740)\t0.04584198079252669\n",
      "  (0, 6739)\t0.04584198079252669\n",
      "  (0, 6738)\t0.05202494620510897\n",
      "  (0, 6716)\t0.03405174219430081\n",
      "  (0, 6703)\t0.04222517788291014\n",
      "  (0, 6666)\t0.029145255416496887\n",
      "  (0, 6656)\t0.043851510516499624\n",
      "  (0, 6624)\t0.06695209993472429\n",
      "  (0, 6583)\t0.05202494620510897\n",
      "  (0, 6567)\t0.029145255416496887\n",
      "  (0, 6451)\t0.04222517788291014\n",
      "  (0, 6432)\t0.04840814329549242\n",
      "  (0, 6428)\t0.09168396158505338\n",
      "  (0, 6417)\t0.04525128247702502\n",
      "  (0, 6393)\t0.09582936818073878\n",
      "  (0, 6277)\t0.029145255416496887\n",
      "  (0, 6198)\t0.04840814329549242\n",
      "  (0, 6189)\t0.039659015379944415\n",
      "  (0, 6185)\t0.05515257436685294\n",
      "  (0, 6098)\t0.04840814329549242\n",
      "  :\t:\n",
      "  (0, 762)\t0.05202494620510897\n",
      "  (0, 760)\t0.026752304832442845\n",
      "  (0, 758)\t0.03532822082907916\n",
      "  (0, 757)\t0.1506741804156694\n",
      "  (0, 754)\t0.043851510516499624\n",
      "  (0, 737)\t0.04840814329549242\n",
      "  (0, 728)\t0.1081266374109836\n",
      "  (0, 711)\t0.028484202408601913\n",
      "  (0, 673)\t0.020310766719992573\n",
      "  (0, 672)\t0.03466716782118419\n",
      "  (0, 665)\t0.029495109415308005\n",
      "  (0, 614)\t0.03466716782118419\n",
      "  (0, 608)\t0.18409182786231654\n",
      "  (0, 542)\t0.031050364911567645\n",
      "  (0, 538)\t0.0386083749732936\n",
      "  (0, 319)\t0.07931803075988883\n",
      "  (0, 218)\t0.04840814329549242\n",
      "  (0, 165)\t0.03766854510391735\n",
      "  (0, 147)\t0.04840814329549242\n",
      "  (0, 87)\t0.03766854510391735\n",
      "  (0, 86)\t0.03681836557246331\n",
      "  (0, 61)\t0.11897704613983325\n",
      "  (0, 47)\t0.03405174219430081\n",
      "  (0, 37)\t0.04840814329549242\n",
      "  (0, 26)\t0.03681836557246331\n"
     ]
    }
   ],
   "source": [
    "tfidf_transformer = TfidfTransformer().fit(faq_bow)\n",
    "tfidf = tfidf_transformer.transform(bow)\n",
    "print(tfidf)"
   ]
  },
  {
   "cell_type": "code",
   "execution_count": 48,
   "metadata": {},
   "outputs": [
    {
     "name": "stdout",
     "output_type": "stream",
     "text": [
      "1.2221480310727082\n",
      "2.861891293002137\n"
     ]
    }
   ],
   "source": [
    "print(tfidf_transformer.idf_[bow_transformer.vocabulary_['boulder']])\n",
    "print(tfidf_transformer.idf_[bow_transformer.vocabulary_['county']])"
   ]
  },
  {
   "cell_type": "code",
   "execution_count": 49,
   "metadata": {},
   "outputs": [
    {
     "name": "stdout",
     "output_type": "stream",
     "text": [
      "(250, 7054)\n"
     ]
    }
   ],
   "source": [
    "faq_tfidf = tfidf_transformer.transform(faq_bow)\n",
    "print(faq_tfidf.shape)"
   ]
  },
  {
   "cell_type": "markdown",
   "metadata": {},
   "source": [
    "### Train the model"
   ]
  },
  {
   "cell_type": "code",
   "execution_count": 50,
   "metadata": {},
   "outputs": [],
   "source": [
    "from sklearn.naive_bayes import MultinomialNB\n",
    "faq_match_model = MultinomialNB().fit(faq_tfidf, faq['Topic'])"
   ]
  },
  {
   "cell_type": "code",
   "execution_count": 51,
   "metadata": {},
   "outputs": [
    {
     "name": "stdout",
     "output_type": "stream",
     "text": [
      "predicted: Affordable Homeownership\n",
      "expected: Affordable Homeownership\n"
     ]
    }
   ],
   "source": [
    "print('predicted:', faq_match_model.predict(tfidf)[0])\n",
    "print('expected:', faq.Topic[0])"
   ]
  },
  {
   "cell_type": "markdown",
   "metadata": {},
   "source": [
    "### Evaluate the model"
   ]
  },
  {
   "cell_type": "code",
   "execution_count": 58,
   "metadata": {},
   "outputs": [
    {
     "name": "stdout",
     "output_type": "stream",
     "text": [
      "['Affordable Homeownership' 'Affordable Rental Opportunities'\n",
      " 'Aircraft Noise' 'Airport' 'Alley Maintenance'\n",
      " 'Americans for the Arts Convention Scholarships'\n",
      " 'Americans with Disabilities Act (ADA)'\n",
      " 'Americans with Disabilities Act (ADA) Trails'\n",
      " 'Animal Noise (Barking Dogs)' 'Animal Protection, Rules and Regulations'\n",
      " 'Animal Shelter' 'Ask-a-Librarian' 'Auction Licensing Instructions'\n",
      " 'Backflow Prevention - Drinking Water'\n",
      " 'Bear Resistant Container Required' 'Bears' 'Bicycling'\n",
      " 'Birth and Death Certificate Request' 'Block Party'\n",
      " 'Boulder Arts Commission Grants' 'Boulder City Limits'\n",
      " 'Boulder Civic Area' 'Boulder Convention and Visitors Bureau'\n",
      " 'Boulder Measures' 'Boulder Office of Emergency Management'\n",
      " 'Boulder Planning' 'Boulder Reservoir' 'Boulder Revised Code'\n",
      " 'BoulderReads!' 'Broken Parking Meter or Pay Station' 'Building Permits'\n",
      " 'Building Safety Code Violations' 'Bulk Water Sales'\n",
      " 'Business Licensing Questions' 'Business Services'\n",
      " 'Canyon Gallery and Art Exhibit Space'\n",
      " 'Canyon Theater and Canyon Gallery Space Rentals' 'Cats in Boulder'\n",
      " 'Child Care Provider Training' 'Child Care Referrals and Subsidies'\n",
      " 'Circus, Carnival or Menagerie License Instructions'\n",
      " 'City of Boulder Parking Map' 'Civic Area Parking Plan' 'Claims'\n",
      " 'Close Call Form' 'Community Development Block Grant'\n",
      " 'Community Event and Impact Funds' 'Community Mediation Service'\n",
      " 'Community Service Form' 'Composting and Recycling' 'Cone Zones'\n",
      " 'Connect Boulder Wi-Fi' 'Construction and Event Parking Permits'\n",
      " 'Construction Meters/Hydrant Meters' 'Construction Use Tax'\n",
      " 'Contact Boulder Municipal Court' 'Contact Boulder Public Library'\n",
      " 'Contact Channel 8' 'Contact City Attorney' 'Contact City Council'\n",
      " 'Contact Division of Housing' 'Contact Human Resources'\n",
      " 'Contact Human Services' 'Contact Open Space and Mountain Parks'\n",
      " 'Contact Parking Services' 'Contact Parks and Recreation'\n",
      " 'Contact Planning, Housing and Sustainability' 'Contact Public Works'\n",
      " \"Contact the City Manager's Office\"\n",
      " 'Contact The Department of Community Vitality' 'Contractor Licensing'\n",
      " 'Cooperative Housing' 'Court ordered classes (MIP)' 'Coyotes'\n",
      " 'Creek and Culvert Debris' 'Crosswalks and Flashing Crosswalks'\n",
      " 'Current Affordable Homeowners' 'Current Emergency Information'\n",
      " 'Damage Claims' 'Debris, Trash and Road Kill'\n",
      " 'Defenses in Municipal Court Traffic Cases'\n",
      " 'Defenses in Non-Traffic Municipal Court Cases' 'Discrimination'\n",
      " 'Disposable Bag Fee' 'Dog Licensing' 'Dog Parks and Dog Swimming'\n",
      " 'Dogs on Open Space and Mountain Parks'\n",
      " 'Downtown Boulder - Pearl Street Mall'\n",
      " 'Downtown Employee Eco Pass (CAGID & BID)' 'Drinking Water Quality'\n",
      " 'Drivers License and License Plates'\n",
      " 'Electric Vehicles and Charging Stations'\n",
      " 'Emergency Alerts, Numbers and Warnings' 'Emergency Preparedness'\n",
      " 'Employment Definitions' 'Energy Future' 'Events'\n",
      " 'Events at Boulder Public Library'\n",
      " 'Facility Reservations and Activity Registrations'\n",
      " 'Family Resource Center and Schools' 'Fire Hydrants'\n",
      " 'Fire Safety Education' 'Fire System Permit Review'\n",
      " 'Firefighter Recruitment' 'Flooding Information' 'Fluoride'\n",
      " 'Folsom Street Living Lab' 'Food Tax Rebate Program'\n",
      " 'Fourmile Canyon Creek Greenways Improvements Project'\n",
      " 'Frozen Water Pipes' 'General Court Questions'\n",
      " 'Getting a Boulder Public Library card' 'Graffiti' 'Holidays'\n",
      " 'Home Repair Programs' 'Homelessness and Homeless Services'\n",
      " 'Hourly Billing Charges for Development Review Applications'\n",
      " 'Housing Fund for Affordable Housing Providers'\n",
      " 'How To Apply for a Position' 'Human Services Fund'\n",
      " 'Illegal Use of a Dumpster' 'Immigrant Integration'\n",
      " 'Including Affordable Units in Residential Development'\n",
      " 'Injured and Orphaned Small Wildlife' 'Inside Boulder News' 'Inspections'\n",
      " 'Internships and Work-Study Positions' 'Irrigation in City Parks'\n",
      " 'Itinerant Merchant (Door-to-door) License' 'Jury Duty'\n",
      " 'Landscape Mulch and Free Mulch' 'Leash Law and Tethering'\n",
      " 'Library Meeting Space' 'Liquor Licensing' 'Living with Urban Wildlife'\n",
      " 'Local History' 'Locate an Underground Utility'\n",
      " 'Macky Auditorium (Boulder Arts Commission) Free Rental Space'\n",
      " 'Maintenance on Open Space and Mountain Parks'\n",
      " 'Meals on Wheels and Cafe Classico' 'Medians' 'Medical Marijuana'\n",
      " 'Minor in Possession (MIP)' 'Mobile Food Vehicles' 'Mosquitoes'\n",
      " 'Mountain Lions' 'Multi-use Path Maintenance' 'Neighborhood Eco Pass'\n",
      " 'News' 'No Water/Service Disruptions' 'North Boulder Subcommunity Plan'\n",
      " 'Open Data' 'Open Space Rules and Regulations' 'Other - Miscellaneous'\n",
      " 'Outdoor Furniture Restriction (University Hill Neighborhood Only)'\n",
      " 'Over Occupancy' 'Overgrown Sidewalk Obstructions' 'P+DS Phone Call Log'\n",
      " 'Park Maintenance Issues' 'Park Shelter Rental'\n",
      " 'Parking Information - Hours, Rates and Holidays' 'Parking Permits'\n",
      " 'Parking Tickets' 'Pawnbroker and Secondhand Dealer License Instructions'\n",
      " 'Pay a Parking Ticket' 'Pay a Photo Enforcement Ticket'\n",
      " 'Pay Your Utility Bill and MyBUB (MyBoulderUtilityBill Website)'\n",
      " 'Pearl Street and University Hill activity permit information'\n",
      " 'Pearl Street and University Hill Vending Cart Information'\n",
      " 'Pearl Street Mall' 'Pesticides' 'Pet Safety Tips'\n",
      " 'Pharmaceutical Disposal and Collection' 'Phone Numbers'\n",
      " 'Photo Enforcement Information' 'Police Code Enforcement Unit'\n",
      " 'Police Department Job Opportunities' 'Potholes' 'Prairie Dogs'\n",
      " 'Prevention and Intervention' 'Projects Under Review' 'Prosecution'\n",
      " 'Public Tree Issues' 'Public Works Volunteer Work Reporting'\n",
      " 'Records Requests' 'Recreation Equipment Issues'\n",
      " 'Recreation Facilities Issues'\n",
      " 'Reimbursement for\\xa0Professional Development'\n",
      " 'Rental Housing Licensing Code Violations'\n",
      " 'Rentals - Landlords, Tenant & Roommate Information'\n",
      " 'Report Substance Spills' 'Right-of-Way Code Violations' 'Sales Tax'\n",
      " 'Sanitary Sewer Maintenance' 'Scalping Tickets'\n",
      " 'School Zone Flashing Beacons'\n",
      " 'Sealing Minor in Possession (MIP) Records' 'Senior Centers'\n",
      " 'Senior Services Programs' 'Sewer Backup Prevention' 'Sewer Odor Problem'\n",
      " 'Shelter and Facility Rentals on Open Space'\n",
      " 'Sidewalk Repair and Maintenance' 'Sidewalk Snow and Ice Removal'\n",
      " 'Sight Obstructions' 'Signs in the Right-of-way' 'Skateboarding'\n",
      " 'SmartRegs' 'Snow Plow Request' 'Softball Leagues' 'Solar Rebate Program'\n",
      " 'Special Event Liquor Permits'\n",
      " 'Special Events Requirements and Other Questions'\n",
      " 'Special Trash Service (University Hill and Goss-Grove Neighborhoods)'\n",
      " 'Speeding on Residential Streets' 'Storm Drain Problems' 'Street Lights'\n",
      " 'Street Maintenance' 'Street Sweeping' 'Tax Rates'\n",
      " 'Theater Rental and Marketing Assistance Grants'\n",
      " 'Towed/Impounded Vehicles' 'Traffic Signals' 'Traffic Signs and Markings'\n",
      " 'Train Noise and Quiet Zones' 'Transit (Bus Service)'\n",
      " 'Transportation Flood Recovery' 'Transportation Projects'\n",
      " 'Trash Concerns' 'Tree Branch Pick-Up' 'Twenty Ninth Street' 'Visitors'\n",
      " 'Volunteer Opportunities' 'Volunteering at the Library' 'Wage Issues'\n",
      " 'Waste Hauling Services'\n",
      " 'Water Being Pumped or Diverted Off Private Property to Elsewhere'\n",
      " 'Water Seepage' 'Water System Maintenance' 'Water Utility Billing'\n",
      " 'Water, Wastewater, Stormwater/Drainageway Flood Recovery'\n",
      " 'Website Issues' 'Weed Control and Tall Vegetation'\n",
      " 'Wildlife Issue or Sighting' 'Wood Burning Restrictions'\n",
      " 'Youth Opportunities' 'Youth Opportunities Grants'\n",
      " 'Zoning Code Violations' 'Smoking in Public Places' 'Accessible Parking']\n"
     ]
    }
   ],
   "source": [
    "pred = faq_match_model.predict(faq_tfidf)\n",
    "print(pred)"
   ]
  },
  {
   "cell_type": "code",
   "execution_count": 59,
   "metadata": {
    "scrolled": false
   },
   "outputs": [
    {
     "name": "stdout",
     "output_type": "stream",
     "text": [
      "                                                                      precision    recall  f1-score   support\n",
      "\n",
      "                                                  Accessible Parking       1.00      1.00      1.00         1\n",
      "                                            Affordable Homeownership       1.00      1.00      1.00         1\n",
      "                                     Affordable Rental Opportunities       1.00      1.00      1.00         1\n",
      "                                                      Aircraft Noise       1.00      1.00      1.00         1\n",
      "                                                             Airport       1.00      1.00      1.00         1\n",
      "                                                   Alley Maintenance       1.00      1.00      1.00         1\n",
      "                      Americans for the Arts Convention Scholarships       1.00      1.00      1.00         1\n",
      "                               Americans with Disabilities Act (ADA)       1.00      1.00      1.00         1\n",
      "                        Americans with Disabilities Act (ADA) Trails       1.00      1.00      1.00         1\n",
      "                                         Animal Noise (Barking Dogs)       1.00      1.00      1.00         1\n",
      "                            Animal Protection, Rules and Regulations       1.00      1.00      1.00         1\n",
      "                                                      Animal Shelter       1.00      1.00      1.00         1\n",
      "                                                     Ask-a-Librarian       1.00      1.00      1.00         1\n",
      "                                      Auction Licensing Instructions       1.00      1.00      1.00         1\n",
      "                                Backflow Prevention - Drinking Water       1.00      1.00      1.00         1\n",
      "                                   Bear Resistant Container Required       1.00      1.00      1.00         1\n",
      "                                                               Bears       1.00      1.00      1.00         1\n",
      "                                                           Bicycling       1.00      1.00      1.00         1\n",
      "                                 Birth and Death Certificate Request       1.00      1.00      1.00         1\n",
      "                                                         Block Party       1.00      1.00      1.00         1\n",
      "                                      Boulder Arts Commission Grants       1.00      1.00      1.00         1\n",
      "                                                 Boulder City Limits       1.00      1.00      1.00         1\n",
      "                                                  Boulder Civic Area       1.00      1.00      1.00         1\n",
      "                              Boulder Convention and Visitors Bureau       1.00      1.00      1.00         1\n",
      "                                                    Boulder Measures       1.00      1.00      1.00         1\n",
      "                              Boulder Office of Emergency Management       1.00      1.00      1.00         1\n",
      "                                                    Boulder Planning       1.00      1.00      1.00         1\n",
      "                                                   Boulder Reservoir       1.00      1.00      1.00         1\n",
      "                                                Boulder Revised Code       1.00      1.00      1.00         1\n",
      "                                                       BoulderReads!       1.00      1.00      1.00         1\n",
      "                                 Broken Parking Meter or Pay Station       1.00      1.00      1.00         1\n",
      "                                                    Building Permits       1.00      1.00      1.00         1\n",
      "                                     Building Safety Code Violations       1.00      1.00      1.00         1\n",
      "                                                    Bulk Water Sales       1.00      1.00      1.00         1\n",
      "                                        Business Licensing Questions       1.00      1.00      1.00         1\n",
      "                                                   Business Services       1.00      1.00      1.00         1\n",
      "                                Canyon Gallery and Art Exhibit Space       1.00      1.00      1.00         1\n",
      "                     Canyon Theater and Canyon Gallery Space Rentals       1.00      1.00      1.00         1\n",
      "                                                     Cats in Boulder       1.00      1.00      1.00         1\n",
      "                                        Child Care Provider Training       1.00      1.00      1.00         1\n",
      "                                  Child Care Referrals and Subsidies       1.00      1.00      1.00         1\n",
      "                  Circus, Carnival or Menagerie License Instructions       1.00      1.00      1.00         1\n",
      "                                         City of Boulder Parking Map       1.00      1.00      1.00         1\n",
      "                                             Civic Area Parking Plan       1.00      1.00      1.00         1\n",
      "                                                              Claims       1.00      1.00      1.00         1\n",
      "                                                     Close Call Form       1.00      1.00      1.00         1\n",
      "                                   Community Development Block Grant       1.00      1.00      1.00         1\n",
      "                                    Community Event and Impact Funds       1.00      1.00      1.00         1\n",
      "                                         Community Mediation Service       1.00      1.00      1.00         1\n",
      "                                              Community Service Form       1.00      1.00      1.00         1\n",
      "                                            Composting and Recycling       1.00      1.00      1.00         1\n",
      "                                                          Cone Zones       1.00      1.00      1.00         1\n",
      "                                               Connect Boulder Wi-Fi       1.00      1.00      1.00         1\n",
      "                                  Construction Meters/Hydrant Meters       1.00      1.00      1.00         1\n",
      "                                                Construction Use Tax       1.00      1.00      1.00         1\n",
      "                              Construction and Event Parking Permits       1.00      1.00      1.00         1\n",
      "                                     Contact Boulder Municipal Court       1.00      1.00      1.00         1\n",
      "                                      Contact Boulder Public Library       1.00      1.00      1.00         1\n",
      "                                                   Contact Channel 8       1.00      1.00      1.00         1\n",
      "                                               Contact City Attorney       1.00      1.00      1.00         1\n",
      "                                                Contact City Council       1.00      1.00      1.00         1\n",
      "                                         Contact Division of Housing       1.00      1.00      1.00         1\n",
      "                                             Contact Human Resources       1.00      1.00      1.00         1\n",
      "                                              Contact Human Services       1.00      1.00      1.00         1\n",
      "                               Contact Open Space and Mountain Parks       1.00      1.00      1.00         1\n",
      "                                            Contact Parking Services       1.00      1.00      1.00         1\n",
      "                                        Contact Parks and Recreation       1.00      1.00      1.00         1\n",
      "                        Contact Planning, Housing and Sustainability       1.00      1.00      1.00         1\n",
      "                                                Contact Public Works       1.00      1.00      1.00         1\n",
      "                        Contact The Department of Community Vitality       1.00      1.00      1.00         1\n",
      "                                   Contact the City Manager's Office       1.00      1.00      1.00         1\n",
      "                                                Contractor Licensing       1.00      1.00      1.00         1\n",
      "                                                 Cooperative Housing       1.00      1.00      1.00         1\n",
      "                                         Court ordered classes (MIP)       1.00      1.00      1.00         1\n",
      "                                                             Coyotes       1.00      1.00      1.00         1\n",
      "                                            Creek and Culvert Debris       1.00      1.00      1.00         1\n",
      "                                  Crosswalks and Flashing Crosswalks       1.00      1.00      1.00         1\n",
      "                                       Current Affordable Homeowners       1.00      1.00      1.00         1\n",
      "                                       Current Emergency Information       1.00      1.00      1.00         1\n",
      "                                                       Damage Claims       1.00      1.00      1.00         1\n",
      "                                         Debris, Trash and Road Kill       1.00      1.00      1.00         1\n",
      "                           Defenses in Municipal Court Traffic Cases       1.00      1.00      1.00         1\n",
      "                       Defenses in Non-Traffic Municipal Court Cases       1.00      1.00      1.00         1\n",
      "                                                      Discrimination       1.00      1.00      1.00         1\n",
      "                                                  Disposable Bag Fee       1.00      1.00      1.00         1\n",
      "                                                       Dog Licensing       1.00      1.00      1.00         1\n",
      "                                          Dog Parks and Dog Swimming       1.00      1.00      1.00         1\n",
      "                               Dogs on Open Space and Mountain Parks       1.00      1.00      1.00         1\n",
      "                                Downtown Boulder - Pearl Street Mall       1.00      1.00      1.00         1\n",
      "                            Downtown Employee Eco Pass (CAGID & BID)       1.00      1.00      1.00         1\n",
      "                                              Drinking Water Quality       1.00      1.00      1.00         1\n",
      "                                  Drivers License and License Plates       1.00      1.00      1.00         1\n",
      "                             Electric Vehicles and Charging Stations       1.00      1.00      1.00         1\n",
      "                              Emergency Alerts, Numbers and Warnings       1.00      1.00      1.00         1\n",
      "                                              Emergency Preparedness       1.00      1.00      1.00         1\n",
      "                                              Employment Definitions       1.00      1.00      1.00         1\n",
      "                                                       Energy Future       1.00      1.00      1.00         1\n",
      "                                                              Events       1.00      1.00      1.00         1\n",
      "                                    Events at Boulder Public Library       1.00      1.00      1.00         1\n",
      "                    Facility Reservations and Activity Registrations       1.00      1.00      1.00         1\n",
      "                                  Family Resource Center and Schools       1.00      1.00      1.00         1\n",
      "                                                       Fire Hydrants       1.00      1.00      1.00         1\n",
      "                                               Fire Safety Education       1.00      1.00      1.00         1\n",
      "                                           Fire System Permit Review       1.00      1.00      1.00         1\n",
      "                                             Firefighter Recruitment       1.00      1.00      1.00         1\n",
      "                                                Flooding Information       1.00      1.00      1.00         1\n",
      "                                                            Fluoride       1.00      1.00      1.00         1\n",
      "                                            Folsom Street Living Lab       1.00      1.00      1.00         1\n",
      "                                             Food Tax Rebate Program       1.00      1.00      1.00         1\n",
      "                Fourmile Canyon Creek Greenways Improvements Project       1.00      1.00      1.00         1\n",
      "                                                  Frozen Water Pipes       1.00      1.00      1.00         1\n",
      "                                             General Court Questions       1.00      1.00      1.00         1\n",
      "                               Getting a Boulder Public Library card       1.00      1.00      1.00         1\n",
      "                                                            Graffiti       1.00      1.00      1.00         1\n",
      "                                                            Holidays       1.00      1.00      1.00         1\n",
      "                                                Home Repair Programs       1.00      1.00      1.00         1\n",
      "                                  Homelessness and Homeless Services       1.00      1.00      1.00         1\n",
      "          Hourly Billing Charges for Development Review Applications       1.00      1.00      1.00         1\n",
      "                       Housing Fund for Affordable Housing Providers       1.00      1.00      1.00         1\n",
      "                                         How To Apply for a Position       1.00      1.00      1.00         1\n",
      "                                                 Human Services Fund       1.00      1.00      1.00         1\n",
      "                                           Illegal Use of a Dumpster       1.00      1.00      1.00         1\n",
      "                                               Immigrant Integration       1.00      1.00      1.00         1\n",
      "               Including Affordable Units in Residential Development       1.00      1.00      1.00         1\n",
      "                                 Injured and Orphaned Small Wildlife       1.00      1.00      1.00         1\n",
      "                                                 Inside Boulder News       1.00      1.00      1.00         1\n",
      "                                                         Inspections       1.00      1.00      1.00         1\n",
      "                                Internships and Work-Study Positions       1.00      1.00      1.00         1\n",
      "                                            Irrigation in City Parks       1.00      1.00      1.00         1\n",
      "                           Itinerant Merchant (Door-to-door) License       1.00      1.00      1.00         1\n",
      "                                                           Jury Duty       1.00      1.00      1.00         1\n",
      "                                      Landscape Mulch and Free Mulch       1.00      1.00      1.00         1\n",
      "                                             Leash Law and Tethering       1.00      1.00      1.00         1\n",
      "                                               Library Meeting Space       1.00      1.00      1.00         1\n",
      "                                                    Liquor Licensing       1.00      1.00      1.00         1\n",
      "                                          Living with Urban Wildlife       1.00      1.00      1.00         1\n",
      "                                                       Local History       1.00      1.00      1.00         1\n",
      "                                       Locate an Underground Utility       1.00      1.00      1.00         1\n",
      "        Macky Auditorium (Boulder Arts Commission) Free Rental Space       1.00      1.00      1.00         1\n",
      "                        Maintenance on Open Space and Mountain Parks       1.00      1.00      1.00         1\n",
      "                                   Meals on Wheels and Cafe Classico       1.00      1.00      1.00         1\n",
      "                                                             Medians       1.00      1.00      1.00         1\n",
      "                                                   Medical Marijuana       1.00      1.00      1.00         1\n",
      "                                           Minor in Possession (MIP)       1.00      1.00      1.00         1\n",
      "                                                Mobile Food Vehicles       1.00      1.00      1.00         1\n",
      "                                                          Mosquitoes       1.00      1.00      1.00         1\n",
      "                                                      Mountain Lions       1.00      1.00      1.00         1\n",
      "                                          Multi-use Path Maintenance       1.00      1.00      1.00         1\n",
      "                                               Neighborhood Eco Pass       1.00      1.00      1.00         1\n",
      "                                                                News       1.00      1.00      1.00         1\n",
      "                                        No Water/Service Disruptions       1.00      1.00      1.00         1\n",
      "                                     North Boulder Subcommunity Plan       1.00      1.00      1.00         1\n",
      "                                                           Open Data       1.00      1.00      1.00         1\n",
      "                                    Open Space Rules and Regulations       1.00      1.00      1.00         1\n",
      "                                               Other - Miscellaneous       1.00      1.00      1.00         1\n",
      "   Outdoor Furniture Restriction (University Hill Neighborhood Only)       1.00      1.00      1.00         1\n",
      "                                                      Over Occupancy       1.00      1.00      1.00         1\n",
      "                                     Overgrown Sidewalk Obstructions       1.00      1.00      1.00         1\n",
      "                                                 P+DS Phone Call Log       1.00      1.00      1.00         1\n",
      "                                             Park Maintenance Issues       1.00      1.00      1.00         1\n",
      "                                                 Park Shelter Rental       1.00      1.00      1.00         1\n",
      "                     Parking Information - Hours, Rates and Holidays       1.00      1.00      1.00         1\n",
      "                                                     Parking Permits       1.00      1.00      1.00         1\n",
      "                                                     Parking Tickets       1.00      1.00      1.00         1\n",
      "               Pawnbroker and Secondhand Dealer License Instructions       1.00      1.00      1.00         1\n",
      "      Pay Your Utility Bill and MyBUB (MyBoulderUtilityBill Website)       1.00      1.00      1.00         1\n",
      "                                                Pay a Parking Ticket       1.00      1.00      1.00         1\n",
      "                                      Pay a Photo Enforcement Ticket       1.00      1.00      1.00         1\n",
      "                                                   Pearl Street Mall       1.00      1.00      1.00         1\n",
      "           Pearl Street and University Hill Vending Cart Information       1.00      1.00      1.00         1\n",
      "        Pearl Street and University Hill activity permit information       1.00      1.00      1.00         1\n",
      "                                                          Pesticides       1.00      1.00      1.00         1\n",
      "                                                     Pet Safety Tips       1.00      1.00      1.00         1\n",
      "                              Pharmaceutical Disposal and Collection       1.00      1.00      1.00         1\n",
      "                                                       Phone Numbers       1.00      1.00      1.00         1\n",
      "                                       Photo Enforcement Information       1.00      1.00      1.00         1\n",
      "                                        Police Code Enforcement Unit       1.00      1.00      1.00         1\n",
      "                                 Police Department Job Opportunities       1.00      1.00      1.00         1\n",
      "                                                            Potholes       1.00      1.00      1.00         1\n",
      "                                                        Prairie Dogs       1.00      1.00      1.00         1\n",
      "                                         Prevention and Intervention       1.00      1.00      1.00         1\n",
      "                                               Projects Under Review       1.00      1.00      1.00         1\n",
      "                                                         Prosecution       1.00      1.00      1.00         1\n",
      "                                                  Public Tree Issues       1.00      1.00      1.00         1\n",
      "                               Public Works Volunteer Work Reporting       1.00      1.00      1.00         1\n",
      "                                                    Records Requests       1.00      1.00      1.00         1\n",
      "                                         Recreation Equipment Issues       1.00      1.00      1.00         1\n",
      "                                        Recreation Facilities Issues       1.00      1.00      1.00         1\n",
      "                          Reimbursement for Professional Development       1.00      1.00      1.00         1\n",
      "                            Rental Housing Licensing Code Violations       1.00      1.00      1.00         1\n",
      "                  Rentals - Landlords, Tenant & Roommate Information       1.00      1.00      1.00         1\n",
      "                                             Report Substance Spills       1.00      1.00      1.00         1\n",
      "                                        Right-of-Way Code Violations       1.00      1.00      1.00         1\n",
      "                                                           Sales Tax       1.00      1.00      1.00         1\n",
      "                                          Sanitary Sewer Maintenance       1.00      1.00      1.00         1\n",
      "                                                    Scalping Tickets       1.00      1.00      1.00         1\n",
      "                                        School Zone Flashing Beacons       1.00      1.00      1.00         1\n",
      "                           Sealing Minor in Possession (MIP) Records       1.00      1.00      1.00         1\n",
      "                                                      Senior Centers       1.00      1.00      1.00         1\n",
      "                                            Senior Services Programs       1.00      1.00      1.00         1\n",
      "                                             Sewer Backup Prevention       1.00      1.00      1.00         1\n",
      "                                                  Sewer Odor Problem       1.00      1.00      1.00         1\n",
      "                          Shelter and Facility Rentals on Open Space       1.00      1.00      1.00         1\n",
      "                                     Sidewalk Repair and Maintenance       1.00      1.00      1.00         1\n",
      "                                       Sidewalk Snow and Ice Removal       1.00      1.00      1.00         1\n",
      "                                                  Sight Obstructions       1.00      1.00      1.00         1\n",
      "                                           Signs in the Right-of-way       1.00      1.00      1.00         1\n",
      "                                                       Skateboarding       1.00      1.00      1.00         1\n",
      "                                                           SmartRegs       1.00      1.00      1.00         1\n",
      "                                            Smoking in Public Places       1.00      1.00      1.00         1\n",
      "                                                   Snow Plow Request       1.00      1.00      1.00         1\n",
      "                                                    Softball Leagues       1.00      1.00      1.00         1\n",
      "                                                Solar Rebate Program       1.00      1.00      1.00         1\n",
      "                                        Special Event Liquor Permits       1.00      1.00      1.00         1\n",
      "                     Special Events Requirements and Other Questions       1.00      1.00      1.00         1\n",
      "Special Trash Service (University Hill and Goss-Grove Neighborhoods)       1.00      1.00      1.00         1\n",
      "                                     Speeding on Residential Streets       1.00      1.00      1.00         1\n",
      "                                                Storm Drain Problems       1.00      1.00      1.00         1\n",
      "                                                       Street Lights       1.00      1.00      1.00         1\n",
      "                                                  Street Maintenance       1.00      1.00      1.00         1\n",
      "                                                     Street Sweeping       1.00      1.00      1.00         1\n",
      "                                                           Tax Rates       1.00      1.00      1.00         1\n",
      "                      Theater Rental and Marketing Assistance Grants       1.00      1.00      1.00         1\n",
      "                                            Towed/Impounded Vehicles       1.00      1.00      1.00         1\n",
      "                                                     Traffic Signals       1.00      1.00      1.00         1\n",
      "                                          Traffic Signs and Markings       1.00      1.00      1.00         1\n",
      "                                         Train Noise and Quiet Zones       1.00      1.00      1.00         1\n",
      "                                               Transit (Bus Service)       1.00      1.00      1.00         1\n",
      "                                       Transportation Flood Recovery       1.00      1.00      1.00         1\n",
      "                                             Transportation Projects       1.00      1.00      1.00         1\n",
      "                                                      Trash Concerns       1.00      1.00      1.00         1\n",
      "                                                 Tree Branch Pick-Up       1.00      1.00      1.00         1\n",
      "                                                 Twenty Ninth Street       1.00      1.00      1.00         1\n",
      "                                                            Visitors       1.00      1.00      1.00         1\n",
      "                                             Volunteer Opportunities       1.00      1.00      1.00         1\n",
      "                                         Volunteering at the Library       1.00      1.00      1.00         1\n",
      "                                                         Wage Issues       1.00      1.00      1.00         1\n",
      "                                              Waste Hauling Services       1.00      1.00      1.00         1\n",
      "    Water Being Pumped or Diverted Off Private Property to Elsewhere       1.00      1.00      1.00         1\n",
      "                                                       Water Seepage       1.00      1.00      1.00         1\n",
      "                                            Water System Maintenance       1.00      1.00      1.00         1\n",
      "                                               Water Utility Billing       1.00      1.00      1.00         1\n",
      "            Water, Wastewater, Stormwater/Drainageway Flood Recovery       1.00      1.00      1.00         1\n",
      "                                                      Website Issues       1.00      1.00      1.00         1\n",
      "                                    Weed Control and Tall Vegetation       1.00      1.00      1.00         1\n",
      "                                          Wildlife Issue or Sighting       1.00      1.00      1.00         1\n",
      "                                           Wood Burning Restrictions       1.00      1.00      1.00         1\n",
      "                                                 Youth Opportunities       1.00      1.00      1.00         1\n",
      "                                          Youth Opportunities Grants       1.00      1.00      1.00         1\n",
      "                                              Zoning Code Violations       1.00      1.00      1.00         1\n",
      "\n",
      "                                                         avg / total       1.00      1.00      1.00       250\n",
      "\n"
     ]
    }
   ],
   "source": [
    "from sklearn.metrics import classification_report\n",
    "print (classification_report(faq['Topic'], pred))"
   ]
  },
  {
   "cell_type": "code",
   "execution_count": 60,
   "metadata": {},
   "outputs": [
    {
     "name": "stdout",
     "output_type": "stream",
     "text": [
      "200 50 250\n"
     ]
    }
   ],
   "source": [
    "from sklearn.model_selection import train_test_split\n",
    "\n",
    "faq_train, faq_test, topic_train, topic_test = \\\n",
    "train_test_split(faq['FAQ'], faq['Topic'], test_size=0.2)\n",
    "\n",
    "print(len(faq_train), len(faq_test), len(faq_train) + len(faq_test))"
   ]
  },
  {
   "cell_type": "code",
   "execution_count": 86,
   "metadata": {},
   "outputs": [],
   "source": [
    "from sklearn.pipeline import Pipeline\n",
    "\n",
    "tfidf_transformer = TfidfTransformer().fit(faq_bow)\n",
    "\n",
    "pipeline = Pipeline([\n",
    "    ('bow', CountVectorizer(analyzer=text_process)),  # strings to token integer counts\n",
    "    ('tfidf', tfidf_transformer),  # integer counts to weighted TF-IDF scores\n",
    "    ('classifier', MultinomialNB()),  # train on TF-IDF vectors w/ Naive Bayes classifier\n",
    "])"
   ]
  },
  {
   "cell_type": "code",
   "execution_count": 87,
   "metadata": {},
   "outputs": [
    {
     "data": {
      "text/plain": [
       "Pipeline(memory=None,\n",
       "     steps=[('bow', CountVectorizer(analyzer=<function text_process at 0x1166e5ea0>, binary=False,\n",
       "        decode_error='strict', dtype=<class 'numpy.int64'>,\n",
       "        encoding='utf-8', input='content', lowercase=True, max_df=1.0,\n",
       "        max_features=None, min_df=1, ngram_range=(1, 1), preprocessor=None,...f=False, use_idf=True)), ('classifier', MultinomialNB(alpha=1.0, class_prior=None, fit_prior=True))])"
      ]
     },
     "execution_count": 87,
     "metadata": {},
     "output_type": "execute_result"
    }
   ],
   "source": [
    "pipeline.fit(faq_train,topic_train)"
   ]
  },
  {
   "cell_type": "code",
   "execution_count": 88,
   "metadata": {},
   "outputs": [],
   "source": [
    "pred = pipeline.predict(faq_test)"
   ]
  },
  {
   "cell_type": "code",
   "execution_count": 113,
   "metadata": {},
   "outputs": [],
   "source": [
    "#print(classification_report(pred, faq_test))"
   ]
  },
  {
   "cell_type": "code",
   "execution_count": null,
   "metadata": {},
   "outputs": [],
   "source": []
  }
 ],
 "metadata": {
  "kernelspec": {
   "display_name": "Python 3",
   "language": "python",
   "name": "python3"
  }
 },
 "nbformat": 4,
 "nbformat_minor": 2
}
