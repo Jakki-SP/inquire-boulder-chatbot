{
 "cells": [
  {
   "cell_type": "markdown",
   "metadata": {},
   "source": [
    "This is just some preliminary exploration and cleaning of the city council emails dataset."
   ]
  },
  {
   "cell_type": "code",
   "execution_count": 1,
   "metadata": {},
   "outputs": [],
   "source": [
    "import numpy as np\n",
    "import pandas as pd\n",
    "import matplotlib as plt"
   ]
  },
  {
   "cell_type": "code",
   "execution_count": 2,
   "metadata": {},
   "outputs": [],
   "source": [
    "df = pd.read_csv('emails-to-boulder-city-council/CouncilEmails2018.csv')"
   ]
  },
  {
   "cell_type": "code",
   "execution_count": 3,
   "metadata": {},
   "outputs": [
    {
     "data": {
      "text/html": [
       "<div>\n",
       "<style scoped>\n",
       "    .dataframe tbody tr th:only-of-type {\n",
       "        vertical-align: middle;\n",
       "    }\n",
       "\n",
       "    .dataframe tbody tr th {\n",
       "        vertical-align: top;\n",
       "    }\n",
       "\n",
       "    .dataframe thead th {\n",
       "        text-align: right;\n",
       "    }\n",
       "</style>\n",
       "<table border=\"1\" class=\"dataframe\">\n",
       "  <thead>\n",
       "    <tr style=\"text-align: right;\">\n",
       "      <th></th>\n",
       "      <th>SentFrom</th>\n",
       "      <th>SentTo</th>\n",
       "      <th>SentCC</th>\n",
       "      <th>ReceivedDate</th>\n",
       "      <th>EmailSubject</th>\n",
       "      <th>EmailBody</th>\n",
       "      <th>PlainTextBody</th>\n",
       "      <th>MessageIdentifier</th>\n",
       "    </tr>\n",
       "  </thead>\n",
       "  <tbody>\n",
       "    <tr>\n",
       "      <th>count</th>\n",
       "      <td>2501</td>\n",
       "      <td>2482</td>\n",
       "      <td>769</td>\n",
       "      <td>2502</td>\n",
       "      <td>2486</td>\n",
       "      <td>2500</td>\n",
       "      <td>2493</td>\n",
       "      <td>2501</td>\n",
       "    </tr>\n",
       "    <tr>\n",
       "      <th>unique</th>\n",
       "      <td>1161</td>\n",
       "      <td>633</td>\n",
       "      <td>477</td>\n",
       "      <td>2484</td>\n",
       "      <td>2068</td>\n",
       "      <td>2498</td>\n",
       "      <td>2478</td>\n",
       "      <td>2501</td>\n",
       "    </tr>\n",
       "    <tr>\n",
       "      <th>top</th>\n",
       "      <td>No Reply</td>\n",
       "      <td>Council</td>\n",
       "      <td>Council</td>\n",
       "      <td>2018-11-08 16:26:05.0000000 +00:00</td>\n",
       "      <td>Messages on hold for council@bouldercolorado.gov</td>\n",
       "      <td>&lt;html&gt;\\n&lt;head&gt;\\n&lt;meta http-equiv=\"Content-Type...</td>\n",
       "      <td>Mizel Museum | 400 South Kearney Street, Denve...</td>\n",
       "      <td>AAMkADQ2ZmVlYWI4LWI1MmEtNDc1NC05ZjhkLTI5YTA3ZD...</td>\n",
       "    </tr>\n",
       "    <tr>\n",
       "      <th>freq</th>\n",
       "      <td>159</td>\n",
       "      <td>1583</td>\n",
       "      <td>109</td>\n",
       "      <td>3</td>\n",
       "      <td>156</td>\n",
       "      <td>2</td>\n",
       "      <td>3</td>\n",
       "      <td>1</td>\n",
       "    </tr>\n",
       "  </tbody>\n",
       "</table>\n",
       "</div>"
      ],
      "text/plain": [
       "        SentFrom   SentTo   SentCC                        ReceivedDate  \\\n",
       "count       2501     2482      769                                2502   \n",
       "unique      1161      633      477                                2484   \n",
       "top     No Reply  Council  Council  2018-11-08 16:26:05.0000000 +00:00   \n",
       "freq         159     1583      109                                   3   \n",
       "\n",
       "                                            EmailSubject  \\\n",
       "count                                               2486   \n",
       "unique                                              2068   \n",
       "top     Messages on hold for council@bouldercolorado.gov   \n",
       "freq                                                 156   \n",
       "\n",
       "                                                EmailBody  \\\n",
       "count                                                2500   \n",
       "unique                                               2498   \n",
       "top     <html>\\n<head>\\n<meta http-equiv=\"Content-Type...   \n",
       "freq                                                    2   \n",
       "\n",
       "                                            PlainTextBody  \\\n",
       "count                                                2493   \n",
       "unique                                               2478   \n",
       "top     Mizel Museum | 400 South Kearney Street, Denve...   \n",
       "freq                                                    3   \n",
       "\n",
       "                                        MessageIdentifier  \n",
       "count                                                2501  \n",
       "unique                                               2501  \n",
       "top     AAMkADQ2ZmVlYWI4LWI1MmEtNDc1NC05ZjhkLTI5YTA3ZD...  \n",
       "freq                                                    1  "
      ]
     },
     "execution_count": 3,
     "metadata": {},
     "output_type": "execute_result"
    }
   ],
   "source": [
    "df.describe()"
   ]
  },
  {
   "cell_type": "code",
   "execution_count": 4,
   "metadata": {},
   "outputs": [
    {
     "data": {
      "text/html": [
       "<div>\n",
       "<style scoped>\n",
       "    .dataframe tbody tr th:only-of-type {\n",
       "        vertical-align: middle;\n",
       "    }\n",
       "\n",
       "    .dataframe tbody tr th {\n",
       "        vertical-align: top;\n",
       "    }\n",
       "\n",
       "    .dataframe thead th {\n",
       "        text-align: right;\n",
       "    }\n",
       "</style>\n",
       "<table border=\"1\" class=\"dataframe\">\n",
       "  <thead>\n",
       "    <tr style=\"text-align: right;\">\n",
       "      <th></th>\n",
       "      <th>SentFrom</th>\n",
       "      <th>SentTo</th>\n",
       "      <th>SentCC</th>\n",
       "      <th>ReceivedDate</th>\n",
       "      <th>EmailSubject</th>\n",
       "      <th>EmailBody</th>\n",
       "      <th>PlainTextBody</th>\n",
       "      <th>MessageIdentifier</th>\n",
       "    </tr>\n",
       "  </thead>\n",
       "  <tbody>\n",
       "    <tr>\n",
       "      <th>0</th>\n",
       "      <td>Schwartz,  Wendy</td>\n",
       "      <td>Stephanie Clatk, Council</td>\n",
       "      <td>NaN</td>\n",
       "      <td>2018-12-12 21:04:04.0000000 +00:00</td>\n",
       "      <td>RE: Homeless</td>\n",
       "      <td>&lt;html&gt;\\n&lt;head&gt;\\n&lt;meta http-equiv=\"Content-Type...</td>\n",
       "      <td>Dear Ms. Clark, Thank you for emailing city co...</td>\n",
       "      <td>AAMkADQ2ZmVlYWI4LWI1MmEtNDc1NC05ZjhkLTI5YTA3ZD...</td>\n",
       "    </tr>\n",
       "    <tr>\n",
       "      <th>1</th>\n",
       "      <td>Schwartz,  Wendy</td>\n",
       "      <td>Stephanie Clatk, Council</td>\n",
       "      <td>NaN</td>\n",
       "      <td>2018-12-12 20:53:36.0000000 +00:00</td>\n",
       "      <td>RE: Homeless</td>\n",
       "      <td>&lt;html&gt;\\n&lt;head&gt;\\n&lt;meta http-equiv=\"Content-Type...</td>\n",
       "      <td>Dear Ms. Clark, Thank you for emailing city co...</td>\n",
       "      <td>AAMkADQ2ZmVlYWI4LWI1MmEtNDc1NC05ZjhkLTI5YTA3ZD...</td>\n",
       "    </tr>\n",
       "    <tr>\n",
       "      <th>2</th>\n",
       "      <td>Darrell Wilson</td>\n",
       "      <td>Council</td>\n",
       "      <td>NaN</td>\n",
       "      <td>2018-12-12 19:56:08.0000000 +00:00</td>\n",
       "      <td>NaN</td>\n",
       "      <td>&lt;html&gt;\\n&lt;head&gt;\\n&lt;meta http-equiv=\"Content-Type...</td>\n",
       "      <td>While I am not a resident of your town I could...</td>\n",
       "      <td>AAMkADQ2ZmVlYWI4LWI1MmEtNDc1NC05ZjhkLTI5YTA3ZD...</td>\n",
       "    </tr>\n",
       "    <tr>\n",
       "      <th>3</th>\n",
       "      <td>Nagle, Mirabai</td>\n",
       "      <td>Council, HOTLINE</td>\n",
       "      <td>NaN</td>\n",
       "      <td>2018-12-12 19:23:40.0000000 +00:00</td>\n",
       "      <td>OZ</td>\n",
       "      <td>&lt;html&gt;\\n&lt;head&gt;\\n&lt;meta http-equiv=\"Content-Type...</td>\n",
       "      <td>Dear Council and Hotline, Here are two interes...</td>\n",
       "      <td>AAMkADQ2ZmVlYWI4LWI1MmEtNDc1NC05ZjhkLTI5YTA3ZD...</td>\n",
       "    </tr>\n",
       "    <tr>\n",
       "      <th>4</th>\n",
       "      <td>Keith Sobolewski</td>\n",
       "      <td>Council</td>\n",
       "      <td>NaN</td>\n",
       "      <td>2018-12-12 17:47:01.0000000 +00:00</td>\n",
       "      <td>Your Treasonous Gun Ban</td>\n",
       "      <td>\\nI am not even from your stinking hippy infes...</td>\n",
       "      <td>I am not even from your stinking hippy infeste...</td>\n",
       "      <td>AAMkADQ2ZmVlYWI4LWI1MmEtNDc1NC05ZjhkLTI5YTA3ZD...</td>\n",
       "    </tr>\n",
       "  </tbody>\n",
       "</table>\n",
       "</div>"
      ],
      "text/plain": [
       "           SentFrom                    SentTo SentCC  \\\n",
       "0  Schwartz,  Wendy  Stephanie Clatk, Council    NaN   \n",
       "1  Schwartz,  Wendy  Stephanie Clatk, Council    NaN   \n",
       "2    Darrell Wilson                   Council    NaN   \n",
       "3    Nagle, Mirabai          Council, HOTLINE    NaN   \n",
       "4  Keith Sobolewski                   Council    NaN   \n",
       "\n",
       "                         ReceivedDate             EmailSubject  \\\n",
       "0  2018-12-12 21:04:04.0000000 +00:00             RE: Homeless   \n",
       "1  2018-12-12 20:53:36.0000000 +00:00             RE: Homeless   \n",
       "2  2018-12-12 19:56:08.0000000 +00:00                      NaN   \n",
       "3  2018-12-12 19:23:40.0000000 +00:00                       OZ   \n",
       "4  2018-12-12 17:47:01.0000000 +00:00  Your Treasonous Gun Ban   \n",
       "\n",
       "                                           EmailBody  \\\n",
       "0  <html>\\n<head>\\n<meta http-equiv=\"Content-Type...   \n",
       "1  <html>\\n<head>\\n<meta http-equiv=\"Content-Type...   \n",
       "2  <html>\\n<head>\\n<meta http-equiv=\"Content-Type...   \n",
       "3  <html>\\n<head>\\n<meta http-equiv=\"Content-Type...   \n",
       "4  \\nI am not even from your stinking hippy infes...   \n",
       "\n",
       "                                       PlainTextBody  \\\n",
       "0  Dear Ms. Clark, Thank you for emailing city co...   \n",
       "1  Dear Ms. Clark, Thank you for emailing city co...   \n",
       "2  While I am not a resident of your town I could...   \n",
       "3  Dear Council and Hotline, Here are two interes...   \n",
       "4  I am not even from your stinking hippy infeste...   \n",
       "\n",
       "                                   MessageIdentifier  \n",
       "0  AAMkADQ2ZmVlYWI4LWI1MmEtNDc1NC05ZjhkLTI5YTA3ZD...  \n",
       "1  AAMkADQ2ZmVlYWI4LWI1MmEtNDc1NC05ZjhkLTI5YTA3ZD...  \n",
       "2  AAMkADQ2ZmVlYWI4LWI1MmEtNDc1NC05ZjhkLTI5YTA3ZD...  \n",
       "3  AAMkADQ2ZmVlYWI4LWI1MmEtNDc1NC05ZjhkLTI5YTA3ZD...  \n",
       "4  AAMkADQ2ZmVlYWI4LWI1MmEtNDc1NC05ZjhkLTI5YTA3ZD...  "
      ]
     },
     "execution_count": 4,
     "metadata": {},
     "output_type": "execute_result"
    }
   ],
   "source": [
    "df.head()"
   ]
  },
  {
   "cell_type": "code",
   "execution_count": 5,
   "metadata": {},
   "outputs": [
    {
     "data": {
      "text/plain": [
       "True"
      ]
     },
     "execution_count": 5,
     "metadata": {},
     "output_type": "execute_result"
    }
   ],
   "source": [
    "df['PlainTextBody'][0] == df['PlainTextBody'][1]"
   ]
  },
  {
   "cell_type": "code",
   "execution_count": 6,
   "metadata": {},
   "outputs": [
    {
     "data": {
      "text/plain": [
       "'Council colleagues: See below two pieces of good news from Boulder Housing Partners. Best, Bob From: Jeremy Durham <DurhamJ@boulderhousing.org> Sent: Tuesday, December 11, 2018 10:26 AM To: BHP_Commissioners Cc: Laura Sheinbaum; Tim Beal Subject: Two Updates Commissioners: I’m writing with two updates that might be of interest. First, last week we received an award of $13.8MM in Private Activity Bond (PAB) cap from the State Department of Local Affairs for the 30Pearl project. As a reminder, 4% tax credits can only be utilized with PABs. As the statewide demand for affordable housing has increased in recent years, PABs have become a scarce resource and securing them a more competitive process. We are thrilled to have received this support from the State. While this is great news for the project, 30Pearl will need approximately $28MM in PABs. Over the next year we’ll work to secure commitments for the remaining PABs from either the State, CHFA, or the City. Second, I’d encourage you to take a look at this video that Grid Alternatives put out featuring our latest solar garden that will sustainably support BHP and our residents energy needs. Thanks to Tim Beal for helping make this a reality. https://www.facebook.com/gridalternatives/videos/2318267638455351/ See you all tomorrow. Best, Jeremy Durham Executive Director Boulder Housing Partners 720.564.4644'"
      ]
     },
     "execution_count": 6,
     "metadata": {},
     "output_type": "execute_result"
    }
   ],
   "source": [
    "df['PlainTextBody'][5]"
   ]
  },
  {
   "cell_type": "code",
   "execution_count": null,
   "metadata": {},
   "outputs": [],
   "source": [
    "requests = pd.read_csv('crm_requests_by_topic_2017.csv')\n",
    "requests.head()"
   ]
  },
  {
   "cell_type": "code",
   "execution_count": null,
   "metadata": {},
   "outputs": [],
   "source": [
    "usage = pd.read_csv('crm_faq_usage_2017.csv')\n",
    "usage.head()"
   ]
  },
  {
   "cell_type": "markdown",
   "metadata": {},
   "source": [
    "Next thing"
   ]
  },
  {
   "cell_type": "code",
   "execution_count": 24,
   "metadata": {},
   "outputs": [],
   "source": [
    "import nltk"
   ]
  },
  {
   "cell_type": "code",
   "execution_count": 158,
   "metadata": {},
   "outputs": [],
   "source": [
    "text = [line.rstrip() for line in open('inquire-boulder-faq/airport_airport.txt')]\n"
   ]
  },
  {
   "cell_type": "code",
   "execution_count": 159,
   "metadata": {},
   "outputs": [
    {
     "data": {
      "text/plain": [
       "['Airport',\n",
       " 'Where is the Boulder Municipal Airport Located?\\u2028The Boulder Municipal Airport is located along the 3300 block of Airport Road.',\n",
       " 'Where can I learn about leasing property at the Boulder Municipal Airport?\\u2028For more information, visit the\\xa0Leasing Information\\xa0Web page.',\n",
       " 'What airlines fly into Boulder Municipal Airport?\\u2028Boulder Municipal Airport is not served by commercial airlines. If you are visiting the Denver/Boulder area, we suggest flying into Denver International Airport. Several shuttle services and a public bus service (RTD SkyRide) provide ground transportation between Denver International Airport and the Boulder area.',\n",
       " 'Where can I get information about aircraft noise policies?\\u2028Please refer to the\\xa0Noise Abatement\\xa0Web page.',\n",
       " \"What is the city's role in airport operations?\\u2028The city is responsible for the safe and efficient operation and maintenance of the airport. The city works to balance the impacts of airport operations and the needs of airport users with the needs of the community. To do this, the city controls land use around the Boulder Municipal Airport and dictates procedures for aircraft operations on the ground (aircraft in the air are regulated by the FAA). The\\xa0Boulder Valley Comprehensive Plan\\xa0outlines the policy for land use around the airport, and the\\xa0Airport Master Plan\\xa0outlines operations of the airport.\",\n",
       " 'What is the traffic pattern for the Boulder Municipal Airport?\\u2028View the\\xa0Traffic Pattern\\xa0for Boulder Municipal Airport.',\n",
       " \"How is the local airspace regulated?\\u2028The\\xa0Federal Aviation Administration\\xa0(FAA) has exclusive control of all airspace over the United States. All airspace users are subject to the FAA's\\xa0Federal Aviation Regulations(FARs). These regulations cover aircraft and pilot registrations, operational control of all aircraft while in the air, traffic patterns, altitude, noise, safety issues and a myriad of other aviation-related matters.\",\n",
       " \"What and when is Airport Day?\\u2028Airport Day is a fun, low-key event for the whole family, held every other year on Father's Day weekend at the Boulder Municipal Airport. The next Airport Day will be on Saturday, June 14, 2014.\",\n",
       " 'The 2012 event featured World War II planes, antique planes, aerobatic planes, a military helicopter, gliders and much more. Visitors were able to look inside the aircraft, ask questions of the pilots and take photos. There were also fire/rescue trucks, food vendors and rides in two different kinds of helicopters.',\n",
       " 'Who can I contact about the airport?\\u2028For more information, contact Airport Management at 303-441-3108 or email\\xa0bma@bouldercolorado.gov.']"
      ]
     },
     "execution_count": 159,
     "metadata": {},
     "output_type": "execute_result"
    }
   ],
   "source": [
    "text"
   ]
  },
  {
   "cell_type": "code",
   "execution_count": 160,
   "metadata": {},
   "outputs": [],
   "source": [
    "title = text[0][0]\n",
    "text = text[1:]\n",
    "text = [item.replace('\\u2028', ' ') for item in text]\n",
    "text = [item.split('?') for item in text]\n"
   ]
  },
  {
   "cell_type": "code",
   "execution_count": 161,
   "metadata": {},
   "outputs": [
    {
     "name": "stderr",
     "output_type": "stream",
     "text": [
      "/Users/willscott/anaconda3/lib/python3.6/site-packages/pandas/core/indexes/api.py:107: RuntimeWarning: '<' not supported between instances of 'str' and 'int', sort order is undefined for incomparable objects\n",
      "  result = result.union(other)\n"
     ]
    }
   ],
   "source": [
    "for item in text[1:]:\n",
    "    df.append(item) "
   ]
  },
  {
   "cell_type": "code",
   "execution_count": 162,
   "metadata": {},
   "outputs": [
    {
     "data": {
      "text/html": [
       "<div>\n",
       "<style scoped>\n",
       "    .dataframe tbody tr th:only-of-type {\n",
       "        vertical-align: middle;\n",
       "    }\n",
       "\n",
       "    .dataframe tbody tr th {\n",
       "        vertical-align: top;\n",
       "    }\n",
       "\n",
       "    .dataframe thead th {\n",
       "        text-align: right;\n",
       "    }\n",
       "</style>\n",
       "<table border=\"1\" class=\"dataframe\">\n",
       "  <thead>\n",
       "    <tr style=\"text-align: right;\">\n",
       "      <th></th>\n",
       "      <th>Question</th>\n",
       "      <th>Answer</th>\n",
       "      <th>Category</th>\n",
       "    </tr>\n",
       "  </thead>\n",
       "  <tbody>\n",
       "    <tr>\n",
       "      <th>0</th>\n",
       "      <td>Where can I learn about leasing property at th...</td>\n",
       "      <td>For more information, visit the Leasing Infor...</td>\n",
       "      <td>A</td>\n",
       "    </tr>\n",
       "    <tr>\n",
       "      <th>1</th>\n",
       "      <td>What airlines fly into Boulder Municipal Airport</td>\n",
       "      <td>Boulder Municipal Airport is not served by co...</td>\n",
       "      <td>A</td>\n",
       "    </tr>\n",
       "    <tr>\n",
       "      <th>2</th>\n",
       "      <td>Where can I get information about aircraft noi...</td>\n",
       "      <td>Please refer to the Noise Abatement Web page.</td>\n",
       "      <td>A</td>\n",
       "    </tr>\n",
       "    <tr>\n",
       "      <th>3</th>\n",
       "      <td>What is the city's role in airport operations</td>\n",
       "      <td>The city is responsible for the safe and effi...</td>\n",
       "      <td>A</td>\n",
       "    </tr>\n",
       "    <tr>\n",
       "      <th>4</th>\n",
       "      <td>What is the traffic pattern for the Boulder Mu...</td>\n",
       "      <td>View the Traffic Pattern for Boulder Municipa...</td>\n",
       "      <td>A</td>\n",
       "    </tr>\n",
       "    <tr>\n",
       "      <th>5</th>\n",
       "      <td>How is the local airspace regulated</td>\n",
       "      <td>The Federal Aviation Administration (FAA) has...</td>\n",
       "      <td>A</td>\n",
       "    </tr>\n",
       "    <tr>\n",
       "      <th>6</th>\n",
       "      <td>What and when is Airport Day</td>\n",
       "      <td>Airport Day is a fun, low-key event for the w...</td>\n",
       "      <td>A</td>\n",
       "    </tr>\n",
       "    <tr>\n",
       "      <th>7</th>\n",
       "      <td>The 2012 event featured World War II planes, a...</td>\n",
       "      <td>None</td>\n",
       "      <td>A</td>\n",
       "    </tr>\n",
       "    <tr>\n",
       "      <th>8</th>\n",
       "      <td>Who can I contact about the airport</td>\n",
       "      <td>For more information, contact Airport Managem...</td>\n",
       "      <td>A</td>\n",
       "    </tr>\n",
       "  </tbody>\n",
       "</table>\n",
       "</div>"
      ],
      "text/plain": [
       "                                            Question  \\\n",
       "0  Where can I learn about leasing property at th...   \n",
       "1   What airlines fly into Boulder Municipal Airport   \n",
       "2  Where can I get information about aircraft noi...   \n",
       "3      What is the city's role in airport operations   \n",
       "4  What is the traffic pattern for the Boulder Mu...   \n",
       "5                How is the local airspace regulated   \n",
       "6                       What and when is Airport Day   \n",
       "7  The 2012 event featured World War II planes, a...   \n",
       "8                Who can I contact about the airport   \n",
       "\n",
       "                                              Answer Category  \n",
       "0   For more information, visit the Leasing Infor...        A  \n",
       "1   Boulder Municipal Airport is not served by co...        A  \n",
       "2      Please refer to the Noise Abatement Web page.        A  \n",
       "3   The city is responsible for the safe and effi...        A  \n",
       "4   View the Traffic Pattern for Boulder Municipa...        A  \n",
       "5   The Federal Aviation Administration (FAA) has...        A  \n",
       "6   Airport Day is a fun, low-key event for the w...        A  \n",
       "7                                               None        A  \n",
       "8   For more information, contact Airport Managem...        A  "
      ]
     },
     "execution_count": 162,
     "metadata": {},
     "output_type": "execute_result"
    }
   ],
   "source": [
    "df = pd.DataFrame(text[1:], columns=['Question', 'Answer'])\n",
    "df['Category'] = [title for i in range(0, len(df))]\n",
    "df"
   ]
  },
  {
   "cell_type": "code",
   "execution_count": null,
   "metadata": {},
   "outputs": [],
   "source": []
  }
 ],
 "metadata": {
  "kernelspec": {
   "display_name": "Python 3",
   "language": "python",
   "name": "python3"
  },
  "language_info": {
   "codemirror_mode": {
    "name": "ipython",
    "version": 3
   },
   "file_extension": ".py",
   "mimetype": "text/x-python",
   "name": "python",
   "nbconvert_exporter": "python",
   "pygments_lexer": "ipython3",
   "version": "3.6.5"
  }
 },
 "nbformat": 4,
 "nbformat_minor": 2
}
