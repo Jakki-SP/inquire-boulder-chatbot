{
 "cells": [
  {
   "cell_type": "markdown",
   "metadata": {},
   "source": [
    "https://www.analyticsvidhya.com/blog/2018/01/faq-chatbots-the-future-of-information-searching/"
   ]
  },
  {
   "cell_type": "code",
   "execution_count": 20,
   "metadata": {},
   "outputs": [],
   "source": [
    "import string\n",
    "import numpy as np\n",
    "import pandas as pd\n",
    "import spacy\n",
    "\n",
    "nlp = spacy.load('en_core_web_md')  # make sure to use larger model!\n",
    "\n",
    "# Uncomment to see full cell text\n",
    "pd.set_option('display.max_colwidth', 0)"
   ]
  },
  {
   "cell_type": "code",
   "execution_count": 21,
   "metadata": {},
   "outputs": [],
   "source": [
    "faq = pd.read_csv('../data/interim/faq-text-separated.csv', keep_default_na=False)"
   ]
  },
  {
   "cell_type": "code",
   "execution_count": 22,
   "metadata": {},
   "outputs": [],
   "source": [
    "# print(spacy.info('en_core_web_md'))"
   ]
  },
  {
   "cell_type": "code",
   "execution_count": 23,
   "metadata": {},
   "outputs": [],
   "source": [
    "# def stemSentence(token words):    \n",
    "#     stem_sentence=[]\n",
    "#     for word in token_words:\n",
    "#         stem_sentence.append(porter.stem(word))\n",
    "#     return stem_sentence\n",
    "\n",
    "# def text_process(text):\n",
    "#     # Remove punctuation\n",
    "#     text = text.replace('-', ' ')\n",
    "#     nopunc = [char for char in text if char not in string.punctuation]\n",
    "#     nopunc = ''.join(nopunc)\n",
    "    \n",
    "#     nopunc = [word.lower() for word in nopunc.split() if word.lower() not in nlp.Defaults.stop_words]\n",
    "#     nopunc = stemSentence(nopunc)\n",
    "    \n",
    "#     return nopunc\n",
    "\n",
    "# faq.question = faq.question.apply(text_process)"
   ]
  },
  {
   "cell_type": "code",
   "execution_count": 24,
   "metadata": {},
   "outputs": [],
   "source": [
    "docs = [nlp(entry) for entry in faq.question]"
   ]
  },
  {
   "cell_type": "code",
   "execution_count": 25,
   "metadata": {},
   "outputs": [],
   "source": [
    "def max_sim(q):\n",
    "    max_i = 0\n",
    "    max_s = 0\n",
    "    ms = []\n",
    "    for i, d in enumerate(docs):\n",
    "        if d.similarity(q) > max_s:\n",
    "            max_s = d.similarity(q)\n",
    "            max_i = i\n",
    "        if d.similarity(q) > .9:\n",
    "            print(d)\n",
    "    return docs[max_i], faq.answer[max_i]"
   ]
  },
  {
   "cell_type": "code",
   "execution_count": 26,
   "metadata": {},
   "outputs": [],
   "source": [
    "query = nlp(u'how long does income-certification take?')"
   ]
  },
  {
   "cell_type": "code",
   "execution_count": 27,
   "metadata": {},
   "outputs": [
    {
     "name": "stdout",
     "output_type": "stream",
     "text": [
      "How long does it take to become income-certified? \n",
      "How Long Does it Take? \n"
     ]
    },
    {
     "data": {
      "text/plain": [
       "(How long does it take to become income-certified? ,\n",
       " 'Generally up to two weeks. ')"
      ]
     },
     "execution_count": 27,
     "metadata": {},
     "output_type": "execute_result"
    }
   ],
   "source": [
    "max_sim(query)"
   ]
  },
  {
   "cell_type": "code",
   "execution_count": 28,
   "metadata": {},
   "outputs": [
    {
     "data": {
      "text/plain": [
       "'how long does income-certification take?'"
      ]
     },
     "execution_count": 28,
     "metadata": {},
     "output_type": "execute_result"
    }
   ],
   "source": [
    "query.text"
   ]
  },
  {
   "cell_type": "code",
   "execution_count": null,
   "metadata": {},
   "outputs": [],
   "source": []
  }
 ],
 "metadata": {
  "kernelspec": {
   "display_name": "Python 3",
   "language": "python",
   "name": "python3"
  },
  "language_info": {
   "codemirror_mode": {
    "name": "ipython",
    "version": 3
   },
   "file_extension": ".py",
   "mimetype": "text/x-python",
   "name": "python",
   "nbconvert_exporter": "python",
   "pygments_lexer": "ipython3",
   "version": "3.6.8"
  }
 },
 "nbformat": 4,
 "nbformat_minor": 2
}
